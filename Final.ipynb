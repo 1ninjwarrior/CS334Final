{
 "cells": [
  {
   "cell_type": "code",
   "execution_count": 62,
   "metadata": {},
   "outputs": [
    {
     "data": {
      "text/html": [
       "<div>\n",
       "<style scoped>\n",
       "    .dataframe tbody tr th:only-of-type {\n",
       "        vertical-align: middle;\n",
       "    }\n",
       "\n",
       "    .dataframe tbody tr th {\n",
       "        vertical-align: top;\n",
       "    }\n",
       "\n",
       "    .dataframe thead th {\n",
       "        text-align: right;\n",
       "    }\n",
       "</style>\n",
       "<table border=\"1\" class=\"dataframe\">\n",
       "  <thead>\n",
       "    <tr style=\"text-align: right;\">\n",
       "      <th></th>\n",
       "      <th>order_id</th>\n",
       "      <th>date</th>\n",
       "      <th>item_name</th>\n",
       "      <th>item_type</th>\n",
       "      <th>item_price</th>\n",
       "      <th>quantity</th>\n",
       "      <th>transaction_amount</th>\n",
       "      <th>transaction_type</th>\n",
       "      <th>received_by</th>\n",
       "      <th>time_of_sale</th>\n",
       "    </tr>\n",
       "  </thead>\n",
       "  <tbody>\n",
       "    <tr>\n",
       "      <th>0</th>\n",
       "      <td>1</td>\n",
       "      <td>07-03-2022</td>\n",
       "      <td>Aalopuri</td>\n",
       "      <td>Fastfood</td>\n",
       "      <td>20</td>\n",
       "      <td>13</td>\n",
       "      <td>260</td>\n",
       "      <td>NaN</td>\n",
       "      <td>Mr.</td>\n",
       "      <td>Night</td>\n",
       "    </tr>\n",
       "    <tr>\n",
       "      <th>1</th>\n",
       "      <td>2</td>\n",
       "      <td>8/23/2022</td>\n",
       "      <td>Vadapav</td>\n",
       "      <td>Fastfood</td>\n",
       "      <td>20</td>\n",
       "      <td>15</td>\n",
       "      <td>300</td>\n",
       "      <td>Cash</td>\n",
       "      <td>Mr.</td>\n",
       "      <td>Afternoon</td>\n",
       "    </tr>\n",
       "    <tr>\n",
       "      <th>2</th>\n",
       "      <td>3</td>\n",
       "      <td>11/20/2022</td>\n",
       "      <td>Vadapav</td>\n",
       "      <td>Fastfood</td>\n",
       "      <td>20</td>\n",
       "      <td>1</td>\n",
       "      <td>20</td>\n",
       "      <td>Cash</td>\n",
       "      <td>Mr.</td>\n",
       "      <td>Afternoon</td>\n",
       "    </tr>\n",
       "    <tr>\n",
       "      <th>3</th>\n",
       "      <td>4</td>\n",
       "      <td>02-03-2023</td>\n",
       "      <td>Sugarcane juice</td>\n",
       "      <td>Beverages</td>\n",
       "      <td>25</td>\n",
       "      <td>6</td>\n",
       "      <td>150</td>\n",
       "      <td>Online</td>\n",
       "      <td>Mr.</td>\n",
       "      <td>Night</td>\n",
       "    </tr>\n",
       "    <tr>\n",
       "      <th>4</th>\n",
       "      <td>5</td>\n",
       "      <td>10-02-2022</td>\n",
       "      <td>Sugarcane juice</td>\n",
       "      <td>Beverages</td>\n",
       "      <td>25</td>\n",
       "      <td>8</td>\n",
       "      <td>200</td>\n",
       "      <td>Online</td>\n",
       "      <td>Mr.</td>\n",
       "      <td>Evening</td>\n",
       "    </tr>\n",
       "  </tbody>\n",
       "</table>\n",
       "</div>"
      ],
      "text/plain": [
       "   order_id        date        item_name  item_type  item_price  quantity  \\\n",
       "0         1  07-03-2022         Aalopuri   Fastfood          20        13   \n",
       "1         2   8/23/2022          Vadapav   Fastfood          20        15   \n",
       "2         3  11/20/2022          Vadapav   Fastfood          20         1   \n",
       "3         4  02-03-2023  Sugarcane juice  Beverages          25         6   \n",
       "4         5  10-02-2022  Sugarcane juice  Beverages          25         8   \n",
       "\n",
       "   transaction_amount transaction_type received_by time_of_sale  \n",
       "0                 260              NaN         Mr.        Night  \n",
       "1                 300             Cash         Mr.    Afternoon  \n",
       "2                  20             Cash         Mr.    Afternoon  \n",
       "3                 150           Online         Mr.        Night  \n",
       "4                 200           Online         Mr.      Evening  "
      ]
     },
     "execution_count": 62,
     "metadata": {},
     "output_type": "execute_result"
    }
   ],
   "source": [
    "import pandas as pd\n",
    "\n",
    "df = pd.read_csv(\"archive/Balaji Fast Food Sales.csv\")\n",
    "\n",
    "df.head()"
   ]
  },
  {
   "cell_type": "code",
   "execution_count": 63,
   "metadata": {},
   "outputs": [
    {
     "name": "stdout",
     "output_type": "stream",
     "text": [
      "<class 'pandas.core.frame.DataFrame'>\n",
      "RangeIndex: 1000 entries, 0 to 999\n",
      "Data columns (total 10 columns):\n",
      " #   Column              Non-Null Count  Dtype \n",
      "---  ------              --------------  ----- \n",
      " 0   order_id            1000 non-null   int64 \n",
      " 1   date                1000 non-null   object\n",
      " 2   item_name           1000 non-null   object\n",
      " 3   item_type           1000 non-null   object\n",
      " 4   item_price          1000 non-null   int64 \n",
      " 5   quantity            1000 non-null   int64 \n",
      " 6   transaction_amount  1000 non-null   int64 \n",
      " 7   transaction_type    893 non-null    object\n",
      " 8   received_by         1000 non-null   object\n",
      " 9   time_of_sale        1000 non-null   object\n",
      "dtypes: int64(4), object(6)\n",
      "memory usage: 78.3+ KB\n"
     ]
    }
   ],
   "source": [
    "df.info()"
   ]
  },
  {
   "cell_type": "code",
   "execution_count": 64,
   "metadata": {},
   "outputs": [
    {
     "data": {
      "text/plain": [
       "order_id                0\n",
       "date                    0\n",
       "item_name               0\n",
       "item_type               0\n",
       "item_price              0\n",
       "quantity                0\n",
       "transaction_amount      0\n",
       "transaction_type      107\n",
       "received_by             0\n",
       "time_of_sale            0\n",
       "dtype: int64"
      ]
     },
     "execution_count": 64,
     "metadata": {},
     "output_type": "execute_result"
    }
   ],
   "source": [
    "df.isnull().sum()"
   ]
  },
  {
   "cell_type": "code",
   "execution_count": 65,
   "metadata": {},
   "outputs": [
    {
     "data": {
      "text/plain": [
       "order_id              0\n",
       "date                  0\n",
       "item_name             0\n",
       "item_type             0\n",
       "item_price            0\n",
       "quantity              0\n",
       "transaction_amount    0\n",
       "transaction_type      0\n",
       "received_by           0\n",
       "time_of_sale          0\n",
       "dtype: int64"
      ]
     },
     "execution_count": 65,
     "metadata": {},
     "output_type": "execute_result"
    }
   ],
   "source": [
    "df['transaction_type'] = df['transaction_type'].fillna(\"Credit Card\")\n",
    "df.isnull().sum()"
   ]
  },
  {
   "cell_type": "code",
   "execution_count": 66,
   "metadata": {},
   "outputs": [
    {
     "data": {
      "text/plain": [
       "0"
      ]
     },
     "execution_count": 66,
     "metadata": {},
     "output_type": "execute_result"
    }
   ],
   "source": [
    "df.duplicated().sum()"
   ]
  },
  {
   "cell_type": "code",
   "execution_count": 67,
   "metadata": {},
   "outputs": [],
   "source": [
    "df['received_by'] = df['received_by'].replace(['Mr.','Mrs.'],['Male','Female'])"
   ]
  },
  {
   "cell_type": "code",
   "execution_count": null,
   "metadata": {},
   "outputs": [],
   "source": []
  },
  {
   "cell_type": "code",
   "execution_count": 68,
   "metadata": {},
   "outputs": [
    {
     "data": {
      "text/plain": [
       "0      07-03-2022\n",
       "1       8-23-2022\n",
       "2      11-20-2022\n",
       "3      02-03-2023\n",
       "4      10-02-2022\n",
       "          ...    \n",
       "995     3-19-2023\n",
       "996     9-20-2022\n",
       "997     1-26-2023\n",
       "998     8-27-2022\n",
       "999     5-29-2022\n",
       "Name: date, Length: 1000, dtype: object"
      ]
     },
     "execution_count": 68,
     "metadata": {},
     "output_type": "execute_result"
    }
   ],
   "source": [
    "df['date'] = df['date'].str.replace('/','-')\n",
    "df['date']"
   ]
  },
  {
   "cell_type": "code",
   "execution_count": 69,
   "metadata": {},
   "outputs": [
    {
     "name": "stdout",
     "output_type": "stream",
     "text": [
      "<class 'pandas.core.frame.DataFrame'>\n",
      "RangeIndex: 1000 entries, 0 to 999\n",
      "Data columns (total 10 columns):\n",
      " #   Column              Non-Null Count  Dtype         \n",
      "---  ------              --------------  -----         \n",
      " 0   order_id            1000 non-null   int64         \n",
      " 1   date                1000 non-null   datetime64[ns]\n",
      " 2   item_name           1000 non-null   object        \n",
      " 3   item_type           1000 non-null   object        \n",
      " 4   item_price          1000 non-null   int64         \n",
      " 5   quantity            1000 non-null   int64         \n",
      " 6   transaction_amount  1000 non-null   int64         \n",
      " 7   transaction_type    1000 non-null   object        \n",
      " 8   received_by         1000 non-null   object        \n",
      " 9   time_of_sale        1000 non-null   object        \n",
      "dtypes: datetime64[ns](1), int64(4), object(5)\n",
      "memory usage: 78.3+ KB\n"
     ]
    }
   ],
   "source": [
    "df['date'] = pd.to_datetime(df['date'])\n",
    "df.info()"
   ]
  },
  {
   "cell_type": "code",
   "execution_count": 70,
   "metadata": {},
   "outputs": [
    {
     "name": "stdout",
     "output_type": "stream",
     "text": [
      "item_name ['Aalopuri' 'Vadapav' 'Sugarcane juice' 'Panipuri' 'Frankie' 'Sandwich'\n",
      " 'Cold coffee']\n",
      "item_type ['Fastfood' 'Beverages']\n",
      "transaction_type ['Credit Card' 'Cash' 'Online']\n",
      "received_by ['Male' 'Female']\n",
      "time_of_sale ['Night' 'Afternoon' 'Evening' 'Morning' 'Midnight']\n"
     ]
    }
   ],
   "source": [
    "unique_values = df.select_dtypes(include = 'object').apply(lambda x: x.unique())\n",
    "for column, values in unique_values.items():\n",
    "    print(column, values)"
   ]
  },
  {
   "cell_type": "code",
   "execution_count": 81,
   "metadata": {},
   "outputs": [
    {
     "name": "stderr",
     "output_type": "stream",
     "text": [
      "/var/folders/pm/z11bn8l91g1_kw05ss7bfjrw0000gn/T/ipykernel_88077/2389994428.py:182: FutureWarning: DataFrame.fillna with 'method' is deprecated and will raise in a future version. Use obj.ffill() or obj.bfill() instead.\n",
      "  X = df[features].fillna(method='ffill').fillna(method='bfill')\n",
      "[I 2024-12-05 22:32:41,233] A new study created in memory with name: no-name-6c71f0ae-1fd0-4616-b542-7479a4b88ec3\n",
      "[W 2024-12-05 22:32:41,235] Trial 0 failed with parameters: {'rf1_n_estimators': 2178, 'rf1_max_depth': 39, 'rf1_min_samples_split': 4, 'rf1_min_samples_leaf': 2, 'rf2_n_estimators': 988, 'rf2_max_depth': 13, 'gb1_n_estimators': 802, 'gb1_learning_rate': 0.09190133276686592, 'gb1_max_depth': 5, 'gb1_subsample': 0.6847634161947196, 'gb2_n_estimators': 250, 'gb2_learning_rate': 0.027438898125272275, 'gb2_max_depth': 9, 'et_n_estimators': 998, 'et_max_depth': 30} because of the following error: The value None could not be cast to float..\n",
      "[W 2024-12-05 22:32:41,235] Trial 0 failed with value None.\n",
      "[W 2024-12-05 22:32:41,236] Trial 1 failed with parameters: {'rf1_n_estimators': 2575, 'rf1_max_depth': 18, 'rf1_min_samples_split': 8, 'rf1_min_samples_leaf': 8, 'rf2_n_estimators': 1056, 'rf2_max_depth': 14, 'gb1_n_estimators': 489, 'gb1_learning_rate': 0.06406581085677103, 'gb1_max_depth': 3, 'gb1_subsample': 0.8095723853157778, 'gb2_n_estimators': 219, 'gb2_learning_rate': 0.0261223020817206, 'gb2_max_depth': 5, 'et_n_estimators': 1729, 'et_max_depth': 21} because of the following error: The value None could not be cast to float..\n"
     ]
    },
    {
     "name": "stderr",
     "output_type": "stream",
     "text": [
      "[W 2024-12-05 22:32:41,237] Trial 1 failed with value None.\n",
      "[W 2024-12-05 22:32:41,239] Trial 2 failed with parameters: {'rf1_n_estimators': 1440, 'rf1_max_depth': 36, 'rf1_min_samples_split': 12, 'rf1_min_samples_leaf': 6, 'rf2_n_estimators': 1952, 'rf2_max_depth': 30, 'gb1_n_estimators': 467, 'gb1_learning_rate': 0.029987360551676476, 'gb1_max_depth': 5, 'gb1_subsample': 0.6881510778928049, 'gb2_n_estimators': 489, 'gb2_learning_rate': 0.023056463184255513, 'gb2_max_depth': 9, 'et_n_estimators': 988, 'et_max_depth': 32} because of the following error: The value None could not be cast to float..\n",
      "[W 2024-12-05 22:32:41,240] Trial 2 failed with value None.\n",
      "[W 2024-12-05 22:32:41,241] Trial 3 failed with parameters: {'rf1_n_estimators': 1635, 'rf1_max_depth': 23, 'rf1_min_samples_split': 2, 'rf1_min_samples_leaf': 3, 'rf2_n_estimators': 2188, 'rf2_max_depth': 12, 'gb1_n_estimators': 627, 'gb1_learning_rate': 0.001799468701140834, 'gb1_max_depth': 6, 'gb1_subsample': 0.9021346419038347, 'gb2_n_estimators': 629, 'gb2_learning_rate': 0.062178126912878544, 'gb2_max_depth': 10, 'et_n_estimators': 599, 'et_max_depth': 15} because of the following error: The value None could not be cast to float..\n",
      "[W 2024-12-05 22:32:41,241] Trial 3 failed with value None.\n",
      "[W 2024-12-05 22:32:41,242] Trial 4 failed with parameters: {'rf1_n_estimators': 1260, 'rf1_max_depth': 18, 'rf1_min_samples_split': 5, 'rf1_min_samples_leaf': 2, 'rf2_n_estimators': 915, 'rf2_max_depth': 19, 'gb1_n_estimators': 717, 'gb1_learning_rate': 0.025313573947518986, 'gb1_max_depth': 6, 'gb1_subsample': 0.9306393623950763, 'gb2_n_estimators': 530, 'gb2_learning_rate': 0.03682541038441512, 'gb2_max_depth': 10, 'et_n_estimators': 1822, 'et_max_depth': 21} because of the following error: The value None could not be cast to float..\n",
      "[W 2024-12-05 22:32:41,242] Trial 4 failed with value None.\n",
      "[W 2024-12-05 22:32:41,243] Trial 5 failed with parameters: {'rf1_n_estimators': 1859, 'rf1_max_depth': 18, 'rf1_min_samples_split': 15, 'rf1_min_samples_leaf': 7, 'rf2_n_estimators': 1038, 'rf2_max_depth': 11, 'gb1_n_estimators': 385, 'gb1_learning_rate': 0.06528906109070999, 'gb1_max_depth': 8, 'gb1_subsample': 0.6509429219692522, 'gb2_n_estimators': 348, 'gb2_learning_rate': 0.048330933266916426, 'gb2_max_depth': 8, 'et_n_estimators': 861, 'et_max_depth': 19} because of the following error: The value None could not be cast to float..\n",
      "[W 2024-12-05 22:32:41,243] Trial 5 failed with value None.\n",
      "[W 2024-12-05 22:32:41,244] Trial 6 failed with parameters: {'rf1_n_estimators': 2301, 'rf1_max_depth': 33, 'rf1_min_samples_split': 13, 'rf1_min_samples_leaf': 2, 'rf2_n_estimators': 1348, 'rf2_max_depth': 11, 'gb1_n_estimators': 616, 'gb1_learning_rate': 0.006315473099286451, 'gb1_max_depth': 9, 'gb1_subsample': 0.6039521917208603, 'gb2_n_estimators': 699, 'gb2_learning_rate': 0.00829799708259598, 'gb2_max_depth': 4, 'et_n_estimators': 663, 'et_max_depth': 25} because of the following error: The value None could not be cast to float..\n",
      "[W 2024-12-05 22:32:41,244] Trial 6 failed with value None.\n",
      "[W 2024-12-05 22:32:41,246] Trial 7 failed with parameters: {'rf1_n_estimators': 1191, 'rf1_max_depth': 29, 'rf1_min_samples_split': 13, 'rf1_min_samples_leaf': 6, 'rf2_n_estimators': 1304, 'rf2_max_depth': 12, 'gb1_n_estimators': 911, 'gb1_learning_rate': 0.019145632830167764, 'gb1_max_depth': 10, 'gb1_subsample': 0.7834902167408846, 'gb2_n_estimators': 290, 'gb2_learning_rate': 0.005424241135436708, 'gb2_max_depth': 10, 'et_n_estimators': 1862, 'et_max_depth': 18} because of the following error: The value None could not be cast to float..\n",
      "[W 2024-12-05 22:32:41,247] Trial 7 failed with value None.\n",
      "[W 2024-12-05 22:32:41,250] Trial 8 failed with parameters: {'rf1_n_estimators': 1079, 'rf1_max_depth': 33, 'rf1_min_samples_split': 14, 'rf1_min_samples_leaf': 2, 'rf2_n_estimators': 1154, 'rf2_max_depth': 24, 'gb1_n_estimators': 478, 'gb1_learning_rate': 0.009207628563512489, 'gb1_max_depth': 5, 'gb1_subsample': 0.77768329372043, 'gb2_n_estimators': 422, 'gb2_learning_rate': 0.19466379239538226, 'gb2_max_depth': 8, 'et_n_estimators': 1970, 'et_max_depth': 15} because of the following error: The value None could not be cast to float..\n",
      "[W 2024-12-05 22:32:41,250] Trial 8 failed with value None.\n",
      "[W 2024-12-05 22:32:41,251] Trial 9 failed with parameters: {'rf1_n_estimators': 1939, 'rf1_max_depth': 39, 'rf1_min_samples_split': 11, 'rf1_min_samples_leaf': 8, 'rf2_n_estimators': 1104, 'rf2_max_depth': 19, 'gb1_n_estimators': 750, 'gb1_learning_rate': 0.027768730528629815, 'gb1_max_depth': 8, 'gb1_subsample': 0.9934912225993033, 'gb2_n_estimators': 693, 'gb2_learning_rate': 0.008413140686524647, 'gb2_max_depth': 4, 'et_n_estimators': 1842, 'et_max_depth': 12} because of the following error: The value None could not be cast to float..\n",
      "[W 2024-12-05 22:32:41,252] Trial 9 failed with value None.\n",
      "[W 2024-12-05 22:32:41,253] Trial 10 failed with parameters: {'rf1_n_estimators': 1406, 'rf1_max_depth': 17, 'rf1_min_samples_split': 6, 'rf1_min_samples_leaf': 2, 'rf2_n_estimators': 1444, 'rf2_max_depth': 30, 'gb1_n_estimators': 828, 'gb1_learning_rate': 0.010021097014975364, 'gb1_max_depth': 11, 'gb1_subsample': 0.7364824080839244, 'gb2_n_estimators': 358, 'gb2_learning_rate': 0.005081737422301195, 'gb2_max_depth': 4, 'et_n_estimators': 1491, 'et_max_depth': 18} because of the following error: The value None could not be cast to float..\n",
      "[W 2024-12-05 22:32:41,253] Trial 10 failed with value None.\n",
      "[W 2024-12-05 22:32:41,255] Trial 11 failed with parameters: {'rf1_n_estimators': 2162, 'rf1_max_depth': 26, 'rf1_min_samples_split': 5, 'rf1_min_samples_leaf': 1, 'rf2_n_estimators': 934, 'rf2_max_depth': 11, 'gb1_n_estimators': 871, 'gb1_learning_rate': 0.00852757560920061, 'gb1_max_depth': 12, 'gb1_subsample': 0.6347750477562578, 'gb2_n_estimators': 574, 'gb2_learning_rate': 0.10340559784827434, 'gb2_max_depth': 8, 'et_n_estimators': 1894, 'et_max_depth': 31} because of the following error: The value None could not be cast to float..\n",
      "[W 2024-12-05 22:32:41,255] Trial 11 failed with value None.\n",
      "[W 2024-12-05 22:32:41,256] Trial 12 failed with parameters: {'rf1_n_estimators': 2016, 'rf1_max_depth': 24, 'rf1_min_samples_split': 15, 'rf1_min_samples_leaf': 2, 'rf2_n_estimators': 2323, 'rf2_max_depth': 20, 'gb1_n_estimators': 418, 'gb1_learning_rate': 0.003376414571423617, 'gb1_max_depth': 9, 'gb1_subsample': 0.6822582306423998, 'gb2_n_estimators': 631, 'gb2_learning_rate': 0.16621990176770618, 'gb2_max_depth': 4, 'et_n_estimators': 1337, 'et_max_depth': 23} because of the following error: The value None could not be cast to float..\n",
      "[W 2024-12-05 22:32:41,256] Trial 12 failed with value None.\n",
      "[W 2024-12-05 22:32:41,257] Trial 13 failed with parameters: {'rf1_n_estimators': 2123, 'rf1_max_depth': 38, 'rf1_min_samples_split': 3, 'rf1_min_samples_leaf': 4, 'rf2_n_estimators': 1037, 'rf2_max_depth': 24, 'gb1_n_estimators': 281, 'gb1_learning_rate': 0.0012873032205980685, 'gb1_max_depth': 10, 'gb1_subsample': 0.9206488604757581, 'gb2_n_estimators': 500, 'gb2_learning_rate': 0.05566641241304174, 'gb2_max_depth': 4, 'et_n_estimators': 701, 'et_max_depth': 12} because of the following error: The value None could not be cast to float..\n",
      "[W 2024-12-05 22:32:41,257] Trial 13 failed with value None.\n",
      "[W 2024-12-05 22:32:41,258] Trial 14 failed with parameters: {'rf1_n_estimators': 1926, 'rf1_max_depth': 31, 'rf1_min_samples_split': 8, 'rf1_min_samples_leaf': 3, 'rf2_n_estimators': 1685, 'rf2_max_depth': 24, 'gb1_n_estimators': 328, 'gb1_learning_rate': 0.01011545349861958, 'gb1_max_depth': 7, 'gb1_subsample': 0.786329285363897, 'gb2_n_estimators': 231, 'gb2_learning_rate': 0.02469998691679424, 'gb2_max_depth': 10, 'et_n_estimators': 1950, 'et_max_depth': 13} because of the following error: The value None could not be cast to float..\n",
      "[W 2024-12-05 22:32:41,258] Trial 14 failed with value None.\n",
      "[W 2024-12-05 22:32:41,259] Trial 15 failed with parameters: {'rf1_n_estimators': 1839, 'rf1_max_depth': 19, 'rf1_min_samples_split': 5, 'rf1_min_samples_leaf': 2, 'rf2_n_estimators': 1745, 'rf2_max_depth': 19, 'gb1_n_estimators': 474, 'gb1_learning_rate': 0.005038189616623537, 'gb1_max_depth': 6, 'gb1_subsample': 0.6734817789626618, 'gb2_n_estimators': 517, 'gb2_learning_rate': 0.012402095889703058, 'gb2_max_depth': 4, 'et_n_estimators': 595, 'et_max_depth': 10} because of the following error: The value None could not be cast to float..\n",
      "[W 2024-12-05 22:32:41,259] Trial 15 failed with value None.\n",
      "[W 2024-12-05 22:32:41,260] Trial 16 failed with parameters: {'rf1_n_estimators': 2922, 'rf1_max_depth': 19, 'rf1_min_samples_split': 13, 'rf1_min_samples_leaf': 2, 'rf2_n_estimators': 1754, 'rf2_max_depth': 30, 'gb1_n_estimators': 652, 'gb1_learning_rate': 0.002120611938652513, 'gb1_max_depth': 4, 'gb1_subsample': 0.9807207284534791, 'gb2_n_estimators': 239, 'gb2_learning_rate': 0.016423335854007064, 'gb2_max_depth': 10, 'et_n_estimators': 1357, 'et_max_depth': 34} because of the following error: The value None could not be cast to float..\n",
      "[W 2024-12-05 22:32:41,260] Trial 16 failed with value None.\n",
      "[W 2024-12-05 22:32:41,261] Trial 17 failed with parameters: {'rf1_n_estimators': 2800, 'rf1_max_depth': 25, 'rf1_min_samples_split': 4, 'rf1_min_samples_leaf': 8, 'rf2_n_estimators': 2137, 'rf2_max_depth': 11, 'gb1_n_estimators': 563, 'gb1_learning_rate': 0.004403927914176267, 'gb1_max_depth': 5, 'gb1_subsample': 0.8855727616739422, 'gb2_n_estimators': 602, 'gb2_learning_rate': 0.06120894932292508, 'gb2_max_depth': 6, 'et_n_estimators': 1889, 'et_max_depth': 22} because of the following error: The value None could not be cast to float..\n",
      "[W 2024-12-05 22:32:41,261] Trial 17 failed with value None.\n",
      "[W 2024-12-05 22:32:41,262] Trial 18 failed with parameters: {'rf1_n_estimators': 2501, 'rf1_max_depth': 19, 'rf1_min_samples_split': 7, 'rf1_min_samples_leaf': 8, 'rf2_n_estimators': 821, 'rf2_max_depth': 10, 'gb1_n_estimators': 211, 'gb1_learning_rate': 0.011503736419648865, 'gb1_max_depth': 10, 'gb1_subsample': 0.9520359450941595, 'gb2_n_estimators': 306, 'gb2_learning_rate': 0.014435883258189251, 'gb2_max_depth': 5, 'et_n_estimators': 507, 'et_max_depth': 23} because of the following error: The value None could not be cast to float..\n",
      "[W 2024-12-05 22:32:41,262] Trial 18 failed with value None.\n",
      "[W 2024-12-05 22:32:41,263] Trial 19 failed with parameters: {'rf1_n_estimators': 2893, 'rf1_max_depth': 38, 'rf1_min_samples_split': 5, 'rf1_min_samples_leaf': 1, 'rf2_n_estimators': 2207, 'rf2_max_depth': 18, 'gb1_n_estimators': 600, 'gb1_learning_rate': 0.0013913090493743539, 'gb1_max_depth': 10, 'gb1_subsample': 0.8108401913607273, 'gb2_n_estimators': 661, 'gb2_learning_rate': 0.11756319271068852, 'gb2_max_depth': 5, 'et_n_estimators': 1621, 'et_max_depth': 31} because of the following error: The value None could not be cast to float..\n",
      "[W 2024-12-05 22:32:41,263] Trial 19 failed with value None.\n",
      "[W 2024-12-05 22:32:41,264] Trial 20 failed with parameters: {'rf1_n_estimators': 1473, 'rf1_max_depth': 38, 'rf1_min_samples_split': 13, 'rf1_min_samples_leaf': 7, 'rf2_n_estimators': 2239, 'rf2_max_depth': 10, 'gb1_n_estimators': 624, 'gb1_learning_rate': 0.014646183165072914, 'gb1_max_depth': 5, 'gb1_subsample': 0.9364698965169899, 'gb2_n_estimators': 640, 'gb2_learning_rate': 0.15442045731096854, 'gb2_max_depth': 5, 'et_n_estimators': 1012, 'et_max_depth': 24} because of the following error: The value None could not be cast to float..\n",
      "[W 2024-12-05 22:32:41,264] Trial 20 failed with value None.\n",
      "[W 2024-12-05 22:32:41,265] Trial 21 failed with parameters: {'rf1_n_estimators': 2266, 'rf1_max_depth': 27, 'rf1_min_samples_split': 4, 'rf1_min_samples_leaf': 2, 'rf2_n_estimators': 956, 'rf2_max_depth': 18, 'gb1_n_estimators': 776, 'gb1_learning_rate': 0.0024075057037775327, 'gb1_max_depth': 8, 'gb1_subsample': 0.7709529853518159, 'gb2_n_estimators': 789, 'gb2_learning_rate': 0.012478681586631383, 'gb2_max_depth': 5, 'et_n_estimators': 1518, 'et_max_depth': 17} because of the following error: The value None could not be cast to float..\n",
      "[W 2024-12-05 22:32:41,266] Trial 21 failed with value None.\n",
      "[W 2024-12-05 22:32:41,266] Trial 22 failed with parameters: {'rf1_n_estimators': 2284, 'rf1_max_depth': 32, 'rf1_min_samples_split': 9, 'rf1_min_samples_leaf': 8, 'rf2_n_estimators': 2467, 'rf2_max_depth': 15, 'gb1_n_estimators': 572, 'gb1_learning_rate': 0.0012670850997366465, 'gb1_max_depth': 7, 'gb1_subsample': 0.8551644708327001, 'gb2_n_estimators': 404, 'gb2_learning_rate': 0.007819801714216961, 'gb2_max_depth': 5, 'et_n_estimators': 1688, 'et_max_depth': 11} because of the following error: The value None could not be cast to float..\n",
      "[W 2024-12-05 22:32:41,266] Trial 22 failed with value None.\n",
      "[W 2024-12-05 22:32:41,267] Trial 23 failed with parameters: {'rf1_n_estimators': 2193, 'rf1_max_depth': 16, 'rf1_min_samples_split': 15, 'rf1_min_samples_leaf': 3, 'rf2_n_estimators': 1392, 'rf2_max_depth': 11, 'gb1_n_estimators': 562, 'gb1_learning_rate': 0.0025461858886576066, 'gb1_max_depth': 10, 'gb1_subsample': 0.6855912615265896, 'gb2_n_estimators': 158, 'gb2_learning_rate': 0.10567323627343038, 'gb2_max_depth': 7, 'et_n_estimators': 1273, 'et_max_depth': 15} because of the following error: The value None could not be cast to float..\n",
      "[W 2024-12-05 22:32:41,267] Trial 23 failed with value None.\n",
      "[W 2024-12-05 22:32:41,268] Trial 24 failed with parameters: {'rf1_n_estimators': 1650, 'rf1_max_depth': 29, 'rf1_min_samples_split': 5, 'rf1_min_samples_leaf': 7, 'rf2_n_estimators': 896, 'rf2_max_depth': 24, 'gb1_n_estimators': 376, 'gb1_learning_rate': 0.0028417280989021508, 'gb1_max_depth': 7, 'gb1_subsample': 0.7512458056806659, 'gb2_n_estimators': 775, 'gb2_learning_rate': 0.021635590057796795, 'gb2_max_depth': 10, 'et_n_estimators': 817, 'et_max_depth': 15} because of the following error: The value None could not be cast to float..\n",
      "[W 2024-12-05 22:32:41,268] Trial 24 failed with value None.\n",
      "[W 2024-12-05 22:32:41,269] Trial 25 failed with parameters: {'rf1_n_estimators': 1406, 'rf1_max_depth': 38, 'rf1_min_samples_split': 11, 'rf1_min_samples_leaf': 6, 'rf2_n_estimators': 1315, 'rf2_max_depth': 26, 'gb1_n_estimators': 404, 'gb1_learning_rate': 0.001702139830259578, 'gb1_max_depth': 5, 'gb1_subsample': 0.9615751423890646, 'gb2_n_estimators': 477, 'gb2_learning_rate': 0.012150544312817953, 'gb2_max_depth': 8, 'et_n_estimators': 1229, 'et_max_depth': 24} because of the following error: The value None could not be cast to float..\n",
      "[W 2024-12-05 22:32:41,270] Trial 25 failed with value None.\n",
      "[W 2024-12-05 22:32:41,270] Trial 26 failed with parameters: {'rf1_n_estimators': 1509, 'rf1_max_depth': 18, 'rf1_min_samples_split': 12, 'rf1_min_samples_leaf': 3, 'rf2_n_estimators': 1529, 'rf2_max_depth': 28, 'gb1_n_estimators': 412, 'gb1_learning_rate': 0.0030627033540587168, 'gb1_max_depth': 9, 'gb1_subsample': 0.7806164803331539, 'gb2_n_estimators': 202, 'gb2_learning_rate': 0.14629095056622093, 'gb2_max_depth': 9, 'et_n_estimators': 1595, 'et_max_depth': 23} because of the following error: The value None could not be cast to float..\n",
      "[W 2024-12-05 22:32:41,271] Trial 26 failed with value None.\n",
      "[W 2024-12-05 22:32:41,271] Trial 27 failed with parameters: {'rf1_n_estimators': 2824, 'rf1_max_depth': 24, 'rf1_min_samples_split': 6, 'rf1_min_samples_leaf': 7, 'rf2_n_estimators': 833, 'rf2_max_depth': 14, 'gb1_n_estimators': 702, 'gb1_learning_rate': 0.07461989727723663, 'gb1_max_depth': 8, 'gb1_subsample': 0.786339304965233, 'gb2_n_estimators': 792, 'gb2_learning_rate': 0.11728372275812902, 'gb2_max_depth': 6, 'et_n_estimators': 588, 'et_max_depth': 31} because of the following error: The value None could not be cast to float..\n",
      "[W 2024-12-05 22:32:41,272] Trial 27 failed with value None.\n",
      "[W 2024-12-05 22:32:41,273] Trial 28 failed with parameters: {'rf1_n_estimators': 2174, 'rf1_max_depth': 35, 'rf1_min_samples_split': 11, 'rf1_min_samples_leaf': 2, 'rf2_n_estimators': 1108, 'rf2_max_depth': 20, 'gb1_n_estimators': 446, 'gb1_learning_rate': 0.01322719217996824, 'gb1_max_depth': 5, 'gb1_subsample': 0.706491400966389, 'gb2_n_estimators': 249, 'gb2_learning_rate': 0.018911244202015263, 'gb2_max_depth': 8, 'et_n_estimators': 1105, 'et_max_depth': 21} because of the following error: The value None could not be cast to float..\n",
      "[W 2024-12-05 22:32:41,273] Trial 28 failed with value None.\n",
      "[W 2024-12-05 22:32:41,273] Trial 29 failed with parameters: {'rf1_n_estimators': 1073, 'rf1_max_depth': 38, 'rf1_min_samples_split': 15, 'rf1_min_samples_leaf': 4, 'rf2_n_estimators': 1809, 'rf2_max_depth': 15, 'gb1_n_estimators': 551, 'gb1_learning_rate': 0.03837985783984033, 'gb1_max_depth': 10, 'gb1_subsample': 0.9421425206703281, 'gb2_n_estimators': 226, 'gb2_learning_rate': 0.028626654296387173, 'gb2_max_depth': 9, 'et_n_estimators': 1459, 'et_max_depth': 21} because of the following error: The value None could not be cast to float..\n",
      "[W 2024-12-05 22:32:41,274] Trial 29 failed with value None.\n",
      "[W 2024-12-05 22:32:41,274] Trial 30 failed with parameters: {'rf1_n_estimators': 1471, 'rf1_max_depth': 21, 'rf1_min_samples_split': 12, 'rf1_min_samples_leaf': 1, 'rf2_n_estimators': 1229, 'rf2_max_depth': 16, 'gb1_n_estimators': 763, 'gb1_learning_rate': 0.010021807547414528, 'gb1_max_depth': 11, 'gb1_subsample': 0.8221606301652943, 'gb2_n_estimators': 719, 'gb2_learning_rate': 0.013093968202732367, 'gb2_max_depth': 5, 'et_n_estimators': 1955, 'et_max_depth': 31} because of the following error: The value None could not be cast to float..\n",
      "[W 2024-12-05 22:32:41,275] Trial 30 failed with value None.\n",
      "[W 2024-12-05 22:32:41,275] Trial 31 failed with parameters: {'rf1_n_estimators': 1638, 'rf1_max_depth': 25, 'rf1_min_samples_split': 8, 'rf1_min_samples_leaf': 6, 'rf2_n_estimators': 1633, 'rf2_max_depth': 26, 'gb1_n_estimators': 447, 'gb1_learning_rate': 0.06542582068885978, 'gb1_max_depth': 4, 'gb1_subsample': 0.8277331754952388, 'gb2_n_estimators': 536, 'gb2_learning_rate': 0.04748129220395247, 'gb2_max_depth': 10, 'et_n_estimators': 503, 'et_max_depth': 21} because of the following error: The value None could not be cast to float..\n",
      "[W 2024-12-05 22:32:41,276] Trial 31 failed with value None.\n",
      "[W 2024-12-05 22:32:41,276] Trial 32 failed with parameters: {'rf1_n_estimators': 1285, 'rf1_max_depth': 26, 'rf1_min_samples_split': 14, 'rf1_min_samples_leaf': 3, 'rf2_n_estimators': 2274, 'rf2_max_depth': 24, 'gb1_n_estimators': 783, 'gb1_learning_rate': 0.009378517715976701, 'gb1_max_depth': 7, 'gb1_subsample': 0.9170986001963302, 'gb2_n_estimators': 780, 'gb2_learning_rate': 0.09916603885258166, 'gb2_max_depth': 7, 'et_n_estimators': 1549, 'et_max_depth': 22} because of the following error: The value None could not be cast to float..\n",
      "[W 2024-12-05 22:32:41,276] Trial 32 failed with value None.\n",
      "[W 2024-12-05 22:32:41,277] Trial 33 failed with parameters: {'rf1_n_estimators': 1553, 'rf1_max_depth': 18, 'rf1_min_samples_split': 7, 'rf1_min_samples_leaf': 8, 'rf2_n_estimators': 966, 'rf2_max_depth': 11, 'gb1_n_estimators': 847, 'gb1_learning_rate': 0.0010518717124230366, 'gb1_max_depth': 12, 'gb1_subsample': 0.7847788004206661, 'gb2_n_estimators': 233, 'gb2_learning_rate': 0.0065181045669005155, 'gb2_max_depth': 7, 'et_n_estimators': 1010, 'et_max_depth': 19} because of the following error: The value None could not be cast to float..\n",
      "[W 2024-12-05 22:32:41,278] Trial 33 failed with value None.\n",
      "[W 2024-12-05 22:32:41,279] Trial 34 failed with parameters: {'rf1_n_estimators': 2432, 'rf1_max_depth': 16, 'rf1_min_samples_split': 6, 'rf1_min_samples_leaf': 3, 'rf2_n_estimators': 2020, 'rf2_max_depth': 17, 'gb1_n_estimators': 330, 'gb1_learning_rate': 0.00800776351934247, 'gb1_max_depth': 3, 'gb1_subsample': 0.9151613365125677, 'gb2_n_estimators': 539, 'gb2_learning_rate': 0.03385003458999666, 'gb2_max_depth': 4, 'et_n_estimators': 838, 'et_max_depth': 29} because of the following error: The value None could not be cast to float..\n",
      "[W 2024-12-05 22:32:41,279] Trial 34 failed with value None.\n",
      "[W 2024-12-05 22:32:41,280] Trial 35 failed with parameters: {'rf1_n_estimators': 2714, 'rf1_max_depth': 27, 'rf1_min_samples_split': 10, 'rf1_min_samples_leaf': 7, 'rf2_n_estimators': 1725, 'rf2_max_depth': 14, 'gb1_n_estimators': 378, 'gb1_learning_rate': 0.04548074515962386, 'gb1_max_depth': 4, 'gb1_subsample': 0.8180272524649376, 'gb2_n_estimators': 257, 'gb2_learning_rate': 0.005671498989963566, 'gb2_max_depth': 6, 'et_n_estimators': 927, 'et_max_depth': 26} because of the following error: The value None could not be cast to float..\n",
      "[W 2024-12-05 22:32:41,281] Trial 35 failed with value None.\n",
      "[W 2024-12-05 22:32:41,282] Trial 36 failed with parameters: {'rf1_n_estimators': 1647, 'rf1_max_depth': 28, 'rf1_min_samples_split': 9, 'rf1_min_samples_leaf': 6, 'rf2_n_estimators': 1541, 'rf2_max_depth': 22, 'gb1_n_estimators': 638, 'gb1_learning_rate': 0.08793692079188496, 'gb1_max_depth': 3, 'gb1_subsample': 0.8305179244654137, 'gb2_n_estimators': 307, 'gb2_learning_rate': 0.019186837425809927, 'gb2_max_depth': 7, 'et_n_estimators': 1554, 'et_max_depth': 26} because of the following error: The value None could not be cast to float..\n",
      "[W 2024-12-05 22:32:41,282] Trial 36 failed with value None.\n",
      "[W 2024-12-05 22:32:41,286] Trial 37 failed with parameters: {'rf1_n_estimators': 2394, 'rf1_max_depth': 25, 'rf1_min_samples_split': 3, 'rf1_min_samples_leaf': 3, 'rf2_n_estimators': 2309, 'rf2_max_depth': 10, 'gb1_n_estimators': 478, 'gb1_learning_rate': 0.008211489092131158, 'gb1_max_depth': 12, 'gb1_subsample': 0.7270302801130596, 'gb2_n_estimators': 570, 'gb2_learning_rate': 0.010727821829944846, 'gb2_max_depth': 9, 'et_n_estimators': 723, 'et_max_depth': 28} because of the following error: The value None could not be cast to float..\n",
      "[W 2024-12-05 22:32:41,287] Trial 37 failed with value None.\n",
      "[W 2024-12-05 22:32:41,288] Trial 38 failed with parameters: {'rf1_n_estimators': 2620, 'rf1_max_depth': 38, 'rf1_min_samples_split': 6, 'rf1_min_samples_leaf': 5, 'rf2_n_estimators': 2280, 'rf2_max_depth': 17, 'gb1_n_estimators': 864, 'gb1_learning_rate': 0.0013447647214390082, 'gb1_max_depth': 9, 'gb1_subsample': 0.7865660640415102, 'gb2_n_estimators': 778, 'gb2_learning_rate': 0.023186215558844182, 'gb2_max_depth': 8, 'et_n_estimators': 1213, 'et_max_depth': 27} because of the following error: The value None could not be cast to float..\n",
      "[W 2024-12-05 22:32:41,288] Trial 38 failed with value None.\n",
      "[W 2024-12-05 22:32:41,289] Trial 39 failed with parameters: {'rf1_n_estimators': 1219, 'rf1_max_depth': 36, 'rf1_min_samples_split': 15, 'rf1_min_samples_leaf': 4, 'rf2_n_estimators': 1579, 'rf2_max_depth': 16, 'gb1_n_estimators': 374, 'gb1_learning_rate': 0.0011475362657752933, 'gb1_max_depth': 12, 'gb1_subsample': 0.9822135874949572, 'gb2_n_estimators': 417, 'gb2_learning_rate': 0.07754786689630196, 'gb2_max_depth': 9, 'et_n_estimators': 1009, 'et_max_depth': 19} because of the following error: The value None could not be cast to float..\n",
      "[W 2024-12-05 22:32:41,290] Trial 39 failed with value None.\n",
      "[W 2024-12-05 22:32:41,291] Trial 40 failed with parameters: {'rf1_n_estimators': 2052, 'rf1_max_depth': 19, 'rf1_min_samples_split': 14, 'rf1_min_samples_leaf': 2, 'rf2_n_estimators': 2199, 'rf2_max_depth': 23, 'gb1_n_estimators': 553, 'gb1_learning_rate': 0.0037994255593476606, 'gb1_max_depth': 7, 'gb1_subsample': 0.6175453484489697, 'gb2_n_estimators': 499, 'gb2_learning_rate': 0.017040988471646586, 'gb2_max_depth': 10, 'et_n_estimators': 1299, 'et_max_depth': 28} because of the following error: The value None could not be cast to float..\n",
      "[W 2024-12-05 22:32:41,291] Trial 40 failed with value None.\n",
      "[W 2024-12-05 22:32:41,292] Trial 41 failed with parameters: {'rf1_n_estimators': 2173, 'rf1_max_depth': 30, 'rf1_min_samples_split': 4, 'rf1_min_samples_leaf': 7, 'rf2_n_estimators': 2198, 'rf2_max_depth': 27, 'gb1_n_estimators': 542, 'gb1_learning_rate': 0.07464501494927121, 'gb1_max_depth': 9, 'gb1_subsample': 0.7503044686161351, 'gb2_n_estimators': 192, 'gb2_learning_rate': 0.10368670461485104, 'gb2_max_depth': 4, 'et_n_estimators': 983, 'et_max_depth': 32} because of the following error: The value None could not be cast to float..\n",
      "[W 2024-12-05 22:32:41,292] Trial 41 failed with value None.\n",
      "[W 2024-12-05 22:32:41,293] Trial 42 failed with parameters: {'rf1_n_estimators': 1080, 'rf1_max_depth': 21, 'rf1_min_samples_split': 3, 'rf1_min_samples_leaf': 3, 'rf2_n_estimators': 1493, 'rf2_max_depth': 10, 'gb1_n_estimators': 936, 'gb1_learning_rate': 0.024295906791679266, 'gb1_max_depth': 11, 'gb1_subsample': 0.8395188047956101, 'gb2_n_estimators': 476, 'gb2_learning_rate': 0.009546919152640148, 'gb2_max_depth': 5, 'et_n_estimators': 1598, 'et_max_depth': 34} because of the following error: The value None could not be cast to float..\n",
      "[W 2024-12-05 22:32:41,293] Trial 42 failed with value None.\n",
      "[W 2024-12-05 22:32:41,299] Trial 43 failed with parameters: {'rf1_n_estimators': 2518, 'rf1_max_depth': 17, 'rf1_min_samples_split': 4, 'rf1_min_samples_leaf': 4, 'rf2_n_estimators': 2421, 'rf2_max_depth': 29, 'gb1_n_estimators': 465, 'gb1_learning_rate': 0.004873432286903869, 'gb1_max_depth': 7, 'gb1_subsample': 0.7591002122413248, 'gb2_n_estimators': 557, 'gb2_learning_rate': 0.014815938730812639, 'gb2_max_depth': 5, 'et_n_estimators': 792, 'et_max_depth': 21} because of the following error: The value None could not be cast to float..\n",
      "[W 2024-12-05 22:32:41,301] Trial 43 failed with value None.\n",
      "[W 2024-12-05 22:32:41,305] Trial 44 failed with parameters: {'rf1_n_estimators': 2012, 'rf1_max_depth': 25, 'rf1_min_samples_split': 10, 'rf1_min_samples_leaf': 3, 'rf2_n_estimators': 1838, 'rf2_max_depth': 19, 'gb1_n_estimators': 585, 'gb1_learning_rate': 0.0023863413706138314, 'gb1_max_depth': 3, 'gb1_subsample': 0.7511008573371003, 'gb2_n_estimators': 171, 'gb2_learning_rate': 0.006670648689933901, 'gb2_max_depth': 4, 'et_n_estimators': 1708, 'et_max_depth': 34} because of the following error: The value None could not be cast to float..\n",
      "[W 2024-12-05 22:32:41,306] Trial 44 failed with value None.\n",
      "[W 2024-12-05 22:32:41,313] Trial 45 failed with parameters: {'rf1_n_estimators': 1705, 'rf1_max_depth': 32, 'rf1_min_samples_split': 14, 'rf1_min_samples_leaf': 2, 'rf2_n_estimators': 2002, 'rf2_max_depth': 17, 'gb1_n_estimators': 719, 'gb1_learning_rate': 0.007053223466952318, 'gb1_max_depth': 3, 'gb1_subsample': 0.8631122563008407, 'gb2_n_estimators': 686, 'gb2_learning_rate': 0.04731433233360437, 'gb2_max_depth': 8, 'et_n_estimators': 1008, 'et_max_depth': 12} because of the following error: The value None could not be cast to float..\n",
      "[W 2024-12-05 22:32:41,315] Trial 45 failed with value None.\n",
      "[W 2024-12-05 22:32:41,321] Trial 46 failed with parameters: {'rf1_n_estimators': 2109, 'rf1_max_depth': 20, 'rf1_min_samples_split': 2, 'rf1_min_samples_leaf': 3, 'rf2_n_estimators': 1535, 'rf2_max_depth': 13, 'gb1_n_estimators': 579, 'gb1_learning_rate': 0.03904344818354006, 'gb1_max_depth': 7, 'gb1_subsample': 0.8997712853703737, 'gb2_n_estimators': 370, 'gb2_learning_rate': 0.06747940104023187, 'gb2_max_depth': 9, 'et_n_estimators': 621, 'et_max_depth': 33} because of the following error: The value None could not be cast to float..\n",
      "[W 2024-12-05 22:32:41,323] Trial 46 failed with value None.\n",
      "[W 2024-12-05 22:32:41,330] Trial 47 failed with parameters: {'rf1_n_estimators': 1588, 'rf1_max_depth': 32, 'rf1_min_samples_split': 13, 'rf1_min_samples_leaf': 5, 'rf2_n_estimators': 2067, 'rf2_max_depth': 28, 'gb1_n_estimators': 334, 'gb1_learning_rate': 0.0034702022307905858, 'gb1_max_depth': 7, 'gb1_subsample': 0.6407288348826584, 'gb2_n_estimators': 630, 'gb2_learning_rate': 0.012461728166122496, 'gb2_max_depth': 5, 'et_n_estimators': 989, 'et_max_depth': 11} because of the following error: The value None could not be cast to float..\n",
      "[W 2024-12-05 22:32:41,331] Trial 47 failed with value None.\n",
      "[W 2024-12-05 22:32:41,339] Trial 48 failed with parameters: {'rf1_n_estimators': 1549, 'rf1_max_depth': 18, 'rf1_min_samples_split': 15, 'rf1_min_samples_leaf': 5, 'rf2_n_estimators': 994, 'rf2_max_depth': 21, 'gb1_n_estimators': 244, 'gb1_learning_rate': 0.020308666428555, 'gb1_max_depth': 5, 'gb1_subsample': 0.9708123657203993, 'gb2_n_estimators': 339, 'gb2_learning_rate': 0.06959989835819001, 'gb2_max_depth': 9, 'et_n_estimators': 1569, 'et_max_depth': 34} because of the following error: The value None could not be cast to float..\n",
      "[W 2024-12-05 22:32:41,341] Trial 48 failed with value None.\n",
      "[W 2024-12-05 22:32:41,350] Trial 49 failed with parameters: {'rf1_n_estimators': 2199, 'rf1_max_depth': 19, 'rf1_min_samples_split': 13, 'rf1_min_samples_leaf': 7, 'rf2_n_estimators': 812, 'rf2_max_depth': 15, 'gb1_n_estimators': 680, 'gb1_learning_rate': 0.04220308907549223, 'gb1_max_depth': 7, 'gb1_subsample': 0.8048212040374629, 'gb2_n_estimators': 184, 'gb2_learning_rate': 0.13406059164109546, 'gb2_max_depth': 8, 'et_n_estimators': 1033, 'et_max_depth': 11} because of the following error: The value None could not be cast to float..\n",
      "[W 2024-12-05 22:32:41,351] Trial 49 failed with value None.\n"
     ]
    },
    {
     "ename": "ValueError",
     "evalue": "No trials are completed yet.",
     "output_type": "error",
     "traceback": [
      "\u001b[0;31m---------------------------------------------------------------------------\u001b[0m",
      "\u001b[0;31mValueError\u001b[0m                                Traceback (most recent call last)",
      "Cell \u001b[0;32mIn[81], line 200\u001b[0m\n\u001b[1;32m    197\u001b[0m study\u001b[38;5;241m.\u001b[39moptimize(objective, n_trials\u001b[38;5;241m=\u001b[39m\u001b[38;5;241m50\u001b[39m)\n\u001b[1;32m    199\u001b[0m \u001b[38;5;66;03m# Train final model with best parameters\u001b[39;00m\n\u001b[0;32m--> 200\u001b[0m best_params \u001b[38;5;241m=\u001b[39m \u001b[43mstudy\u001b[49m\u001b[38;5;241;43m.\u001b[39;49m\u001b[43mbest_params\u001b[49m\n\u001b[1;32m    201\u001b[0m final_ensemble \u001b[38;5;241m=\u001b[39m create_ensemble_model(best_params)\n\u001b[1;32m    202\u001b[0m final_ensemble\u001b[38;5;241m.\u001b[39mfit(X_train, y_train)\n",
      "File \u001b[0;32m/Library/Frameworks/Python.framework/Versions/3.12/lib/python3.12/site-packages/optuna/study/study.py:119\u001b[0m, in \u001b[0;36mStudy.best_params\u001b[0;34m(self)\u001b[0m\n\u001b[1;32m    107\u001b[0m \u001b[38;5;129m@property\u001b[39m\n\u001b[1;32m    108\u001b[0m \u001b[38;5;28;01mdef\u001b[39;00m \u001b[38;5;21mbest_params\u001b[39m(\u001b[38;5;28mself\u001b[39m) \u001b[38;5;241m-\u001b[39m\u001b[38;5;241m>\u001b[39m \u001b[38;5;28mdict\u001b[39m[\u001b[38;5;28mstr\u001b[39m, Any]:\n\u001b[1;32m    109\u001b[0m \u001b[38;5;250m    \u001b[39m\u001b[38;5;124;03m\"\"\"Return parameters of the best trial in the study.\u001b[39;00m\n\u001b[1;32m    110\u001b[0m \n\u001b[1;32m    111\u001b[0m \u001b[38;5;124;03m    .. note::\u001b[39;00m\n\u001b[0;32m   (...)\u001b[0m\n\u001b[1;32m    116\u001b[0m \n\u001b[1;32m    117\u001b[0m \u001b[38;5;124;03m    \"\"\"\u001b[39;00m\n\u001b[0;32m--> 119\u001b[0m     \u001b[38;5;28;01mreturn\u001b[39;00m \u001b[38;5;28;43mself\u001b[39;49m\u001b[38;5;241;43m.\u001b[39;49m\u001b[43mbest_trial\u001b[49m\u001b[38;5;241m.\u001b[39mparams\n",
      "File \u001b[0;32m/Library/Frameworks/Python.framework/Versions/3.12/lib/python3.12/site-packages/optuna/study/study.py:162\u001b[0m, in \u001b[0;36mStudy.best_trial\u001b[0;34m(self)\u001b[0m\n\u001b[1;32m    156\u001b[0m \u001b[38;5;28;01mif\u001b[39;00m \u001b[38;5;28mself\u001b[39m\u001b[38;5;241m.\u001b[39m_is_multi_objective():\n\u001b[1;32m    157\u001b[0m     \u001b[38;5;28;01mraise\u001b[39;00m \u001b[38;5;167;01mRuntimeError\u001b[39;00m(\n\u001b[1;32m    158\u001b[0m         \u001b[38;5;124m\"\u001b[39m\u001b[38;5;124mA single best trial cannot be retrieved from a multi-objective study. Consider \u001b[39m\u001b[38;5;124m\"\u001b[39m\n\u001b[1;32m    159\u001b[0m         \u001b[38;5;124m\"\u001b[39m\u001b[38;5;124musing Study.best_trials to retrieve a list containing the best trials.\u001b[39m\u001b[38;5;124m\"\u001b[39m\n\u001b[1;32m    160\u001b[0m     )\n\u001b[0;32m--> 162\u001b[0m best_trial \u001b[38;5;241m=\u001b[39m \u001b[38;5;28;43mself\u001b[39;49m\u001b[38;5;241;43m.\u001b[39;49m\u001b[43m_storage\u001b[49m\u001b[38;5;241;43m.\u001b[39;49m\u001b[43mget_best_trial\u001b[49m\u001b[43m(\u001b[49m\u001b[38;5;28;43mself\u001b[39;49m\u001b[38;5;241;43m.\u001b[39;49m\u001b[43m_study_id\u001b[49m\u001b[43m)\u001b[49m\n\u001b[1;32m    164\u001b[0m \u001b[38;5;66;03m# If the trial with the best value is infeasible, select the best trial from all feasible\u001b[39;00m\n\u001b[1;32m    165\u001b[0m \u001b[38;5;66;03m# trials. Note that the behavior is undefined when constrained optimization without the\u001b[39;00m\n\u001b[1;32m    166\u001b[0m \u001b[38;5;66;03m# violation value in the best-valued trial.\u001b[39;00m\n\u001b[1;32m    167\u001b[0m constraints \u001b[38;5;241m=\u001b[39m best_trial\u001b[38;5;241m.\u001b[39msystem_attrs\u001b[38;5;241m.\u001b[39mget(_CONSTRAINTS_KEY)\n",
      "File \u001b[0;32m/Library/Frameworks/Python.framework/Versions/3.12/lib/python3.12/site-packages/optuna/storages/_in_memory.py:249\u001b[0m, in \u001b[0;36mInMemoryStorage.get_best_trial\u001b[0;34m(self, study_id)\u001b[0m\n\u001b[1;32m    246\u001b[0m best_trial_id \u001b[38;5;241m=\u001b[39m \u001b[38;5;28mself\u001b[39m\u001b[38;5;241m.\u001b[39m_studies[study_id]\u001b[38;5;241m.\u001b[39mbest_trial_id\n\u001b[1;32m    248\u001b[0m \u001b[38;5;28;01mif\u001b[39;00m best_trial_id \u001b[38;5;129;01mis\u001b[39;00m \u001b[38;5;28;01mNone\u001b[39;00m:\n\u001b[0;32m--> 249\u001b[0m     \u001b[38;5;28;01mraise\u001b[39;00m \u001b[38;5;167;01mValueError\u001b[39;00m(\u001b[38;5;124m\"\u001b[39m\u001b[38;5;124mNo trials are completed yet.\u001b[39m\u001b[38;5;124m\"\u001b[39m)\n\u001b[1;32m    250\u001b[0m \u001b[38;5;28;01melif\u001b[39;00m \u001b[38;5;28mlen\u001b[39m(\u001b[38;5;28mself\u001b[39m\u001b[38;5;241m.\u001b[39m_studies[study_id]\u001b[38;5;241m.\u001b[39mdirections) \u001b[38;5;241m>\u001b[39m \u001b[38;5;241m1\u001b[39m:\n\u001b[1;32m    251\u001b[0m     \u001b[38;5;28;01mraise\u001b[39;00m \u001b[38;5;167;01mRuntimeError\u001b[39;00m(\n\u001b[1;32m    252\u001b[0m         \u001b[38;5;124m\"\u001b[39m\u001b[38;5;124mBest trial can be obtained only for single-objective optimization.\u001b[39m\u001b[38;5;124m\"\u001b[39m\n\u001b[1;32m    253\u001b[0m     )\n",
      "\u001b[0;31mValueError\u001b[0m: No trials are completed yet."
     ]
    }
   ],
   "source": [
    "import pandas as pd\n",
    "import numpy as np\n",
    "from sklearn.ensemble import RandomForestRegressor, GradientBoostingRegressor\n",
    "from sklearn.ensemble import VotingRegressor\n",
    "from sklearn.metrics import mean_squared_error, r2_score\n",
    "from sklearn.model_selection import train_test_split, cross_val_score\n",
    "from sklearn.preprocessing import StandardScaler\n",
    "import optuna\n",
    "\n",
    "def create_advanced_features(df):\n",
    "    # Time-based features\n",
    "    df['hour_of_day'] = pd.Categorical(df['time_of_sale'], \n",
    "                                     categories=['Morning', 'Afternoon', 'Evening', 'Night'],\n",
    "                                     ordered=True).codes\n",
    "    \n",
    "    # Enhanced time-based features\n",
    "    df['day_of_week'] = df['date'].dt.dayofweek\n",
    "    df['is_weekend'] = df['day_of_week'].isin([5, 6]).astype(int)\n",
    "    df['month'] = df['date'].dt.month\n",
    "    df['quarter'] = df['date'].dt.quarter\n",
    "    df['day_of_year'] = df['date'].dt.dayofyear\n",
    "    df['week_of_year'] = df['date'].dt.isocalendar().week\n",
    "    \n",
    "    # Sales patterns\n",
    "    daily_stats = df.groupby(['date', 'time_of_sale'])['transaction_amount'].agg([\n",
    "        'mean', 'count', 'std', 'min', 'max'\n",
    "    ]).reset_index()\n",
    "    df = df.merge(daily_stats, on=['date', 'time_of_sale'], suffixes=('', '_daily'))\n",
    "    \n",
    "    # Rolling statistics\n",
    "    df = df.sort_values('date')\n",
    "    for window in [7, 14, 30]:\n",
    "        df[f'rolling_{window}d_mean'] = df.groupby('time_of_sale')['transaction_amount'].transform(\n",
    "            lambda x: x.rolling(window, min_periods=1).mean())\n",
    "        df[f'rolling_{window}d_std'] = df.groupby('time_of_sale')['transaction_amount'].transform(\n",
    "            lambda x: x.rolling(window, min_periods=1).std())\n",
    "    \n",
    "    return df\n",
    "\n",
    "def create_ensemble_model(params):\n",
    "    rf = RandomForestRegressor(\n",
    "        n_estimators=params['rf_n_estimators'],\n",
    "        max_depth=params['rf_max_depth'],\n",
    "        min_samples_split=params['rf_min_samples_split'],\n",
    "        min_samples_leaf=params['rf_min_samples_leaf'],\n",
    "        random_state=42,\n",
    "        n_jobs=-1\n",
    "    )\n",
    "    \n",
    "    gb = GradientBoostingRegressor(\n",
    "        n_estimators=params['gb_n_estimators'],\n",
    "        learning_rate=params['gb_learning_rate'],\n",
    "        max_depth=params['gb_max_depth'],\n",
    "        subsample=params['gb_subsample'],\n",
    "        random_state=42\n",
    "    )\n",
    "    \n",
    "    return VotingRegressor([\n",
    "        ('rf', rf),\n",
    "        ('gb', gb)\n",
    "    ])\n",
    "\n",
    "def objective(trial):\n",
    "    params = {\n",
    "        'rf_n_estimators': trial.suggest_int('rf_n_estimators', 1000, 3000),\n",
    "        'rf_max_depth': trial.suggest_int('rf_max_depth', 15, 40),\n",
    "        'rf_min_samples_split': trial.suggest_int('rf_min_samples_split', 2, 15),\n",
    "        'rf_min_samples_leaf': trial.suggest_int('rf_min_samples_leaf', 1, 8),\n",
    "        \n",
    "        'gb_n_estimators': trial.suggest_int('gb_n_estimators', 200, 1000),\n",
    "        'gb_learning_rate': trial.suggest_float('gb_learning_rate', 0.001, 0.1, log=True),\n",
    "        'gb_max_depth': trial.suggest_int('gb_max_depth', 3, 12),\n",
    "        'gb_subsample': trial.suggest_float('gb_subsample', 0.6, 1.0)\n",
    "    }\n",
    "    \n",
    "    ensemble = create_ensemble_model(params)\n",
    "    cv_scores = cross_val_score(ensemble, X_train, y_train, cv=5, scoring='r2', n_jobs=-1)\n",
    "    return cv_scores.mean()\n",
    "\n",
    "def predict_staffing_needs(model, scaler, date, time_of_day, features_list):\n",
    "    \"\"\"\n",
    "    Predict staffing needs based on expected sales\n",
    "    \"\"\"\n",
    "    # Create feature vector for prediction\n",
    "    prediction_df = pd.DataFrame({\n",
    "        'date': [date],\n",
    "        'time_of_sale': [time_of_day]\n",
    "    })\n",
    "    \n",
    "    # Create features for prediction\n",
    "    prediction_df = create_advanced_features(prediction_df)\n",
    "    X_pred = prediction_df[features_list].fillna(0)  # Fill NA with 0 for prediction\n",
    "    \n",
    "    # Scale features\n",
    "    X_pred_scaled = scaler.transform(X_pred)\n",
    "    \n",
    "    # Predict sales\n",
    "    predicted_sales = model.predict(X_pred_scaled)[0]\n",
    "    \n",
    "    # Determine staffing needs based on predicted sales\n",
    "    if predicted_sales < 100:\n",
    "        return 1, predicted_sales\n",
    "    elif predicted_sales < 250:\n",
    "        return 2, predicted_sales\n",
    "    elif predicted_sales < 400:\n",
    "        return 3, predicted_sales\n",
    "    elif predicted_sales < 600:\n",
    "        return 4, predicted_sales\n",
    "    else:\n",
    "        return 5, predicted_sales\n",
    "\n",
    "# Main execution\n",
    "\n",
    "if __name__ == \"__main__\":\n",
    "    # Read and prepare data\n",
    "    df = pd.read_csv(\"archive/Balaji Fast Food Sales.csv\")\n",
    "    \n",
    "    # First standardize the date format by replacing '/' with '-'\n",
    "    df['date'] = df['date'].str.replace('/', '-')\n",
    "    \n",
    "    # Then convert to datetime with 'mixed' format\n",
    "    df['date'] = pd.to_datetime(df['date'], format='mixed')\n",
    "    \n",
    "    # Create advanced features\n",
    "    df = create_advanced_features(df)\n",
    "    \n",
    "    # Select features\n",
    "    features = [\n",
    "        'day_of_week', 'month', 'day_of_year', 'hour_of_day', 'is_weekend',\n",
    "        'quarter', 'week_of_year', 'mean', 'count', 'std', 'min', 'max',\n",
    "        'rolling_7d_mean', 'rolling_7d_std',\n",
    "        'rolling_14d_mean', 'rolling_14d_std',\n",
    "        'rolling_30d_mean', 'rolling_30d_std'\n",
    "    ]\n",
    "    \n",
    "    # Prepare data\n",
    "    X = df[features].fillna(method='ffill').fillna(method='bfill')\n",
    "    y = df['transaction_amount']\n",
    "    \n",
    "    # Scale features\n",
    "    scaler = StandardScaler()\n",
    "    X_scaled = scaler.fit_transform(X)\n",
    "    X_scaled = pd.DataFrame(X_scaled, columns=features)\n",
    "    \n",
    "    # Split data\n",
    "    X_train, X_test, y_train, y_test = train_test_split(\n",
    "        X_scaled, y, test_size=0.2, random_state=42\n",
    "    )\n",
    "    \n",
    "    # Optimize hyperparameters\n",
    "    study = optuna.create_study(direction='maximize')\n",
    "    study.optimize(objective, n_trials=50)\n",
    "    \n",
    "    # Train final model with best parameters\n",
    "    best_params = study.best_params\n",
    "    final_ensemble = create_ensemble_model(best_params)\n",
    "    final_ensemble.fit(X_train, y_train)\n",
    "    \n",
    "    # Evaluate final model\n",
    "    y_pred = final_ensemble.predict(X_test)\n",
    "    mse = mean_squared_error(y_test, y_pred)\n",
    "    r2 = r2_score(y_test, y_pred)\n",
    "    \n",
    "    print(f'Final Mean Squared Error: {mse}')\n",
    "    print(f'Final R2 Score: {r2}')\n",
    "    \n",
    "    # Feature importance analysis\n",
    "    feature_importance = pd.DataFrame({\n",
    "        'feature': features,\n",
    "        'importance': final_ensemble.named_estimators_['rf'].feature_importances_\n",
    "    })\n",
    "    print(\"\\nFeature Importance:\")\n",
    "    print(feature_importance.sort_values('importance', ascending=False))\n",
    "    \n",
    "    # Example prediction\n",
    "    future_date = pd.Timestamp('2024-03-15')\n",
    "    staff_needed, predicted_sales = predict_staffing_needs(\n",
    "        final_ensemble, scaler, future_date, 'Evening', features\n",
    "    )\n",
    "    print(f'\\nPrediction for {future_date.date()} Evening:')\n",
    "    print(f'Predicted sales: ${predicted_sales:.2f}')\n",
    "    print(f'Recommended staff: {staff_needed}')"
   ]
  },
  {
   "cell_type": "code",
   "execution_count": 73,
   "metadata": {},
   "outputs": [
    {
     "name": "stderr",
     "output_type": "stream",
     "text": [
      "/var/folders/pm/z11bn8l91g1_kw05ss7bfjrw0000gn/T/ipykernel_88077/605979468.py:119: FutureWarning: DataFrame.fillna with 'method' is deprecated and will raise in a future version. Use obj.ffill() or obj.bfill() instead.\n",
      "  X = df[features].fillna(method='ffill').fillna(method='bfill')\n"
     ]
    },
    {
     "ename": "KeyError",
     "evalue": "\"['time_numeric'] not in index\"",
     "output_type": "error",
     "traceback": [
      "\u001b[0;31m---------------------------------------------------------------------------\u001b[0m",
      "\u001b[0;31mKeyError\u001b[0m                                  Traceback (most recent call last)",
      "Cell \u001b[0;32mIn[73], line 126\u001b[0m\n\u001b[1;32m    122\u001b[0m \u001b[38;5;66;03m# ... rest of the model training code remains the same until the final prediction ...\u001b[39;00m\n\u001b[1;32m    123\u001b[0m \n\u001b[1;32m    124\u001b[0m \u001b[38;5;66;03m# Example prediction\u001b[39;00m\n\u001b[1;32m    125\u001b[0m future_date \u001b[38;5;241m=\u001b[39m pd\u001b[38;5;241m.\u001b[39mTimestamp(\u001b[38;5;124m'\u001b[39m\u001b[38;5;124m2024-03-15\u001b[39m\u001b[38;5;124m'\u001b[39m)\n\u001b[0;32m--> 126\u001b[0m predicted_items \u001b[38;5;241m=\u001b[39m \u001b[43mpredict_item_sales\u001b[49m\u001b[43m(\u001b[49m\n\u001b[1;32m    127\u001b[0m \u001b[43m    \u001b[49m\u001b[43mfinal_ensemble\u001b[49m\u001b[43m,\u001b[49m\u001b[43m \u001b[49m\u001b[43mscaler\u001b[49m\u001b[43m,\u001b[49m\u001b[43m \u001b[49m\u001b[43mfuture_date\u001b[49m\u001b[43m,\u001b[49m\u001b[43m \u001b[49m\u001b[38;5;124;43m'\u001b[39;49m\u001b[38;5;124;43mEvening\u001b[39;49m\u001b[38;5;124;43m'\u001b[39;49m\u001b[43m,\u001b[49m\u001b[43m \u001b[49m\u001b[43mfeatures\u001b[49m\n\u001b[1;32m    128\u001b[0m \u001b[43m\u001b[49m\u001b[43m)\u001b[49m\n\u001b[1;32m    129\u001b[0m \u001b[38;5;28mprint\u001b[39m(\u001b[38;5;124mf\u001b[39m\u001b[38;5;124m'\u001b[39m\u001b[38;5;130;01m\\n\u001b[39;00m\u001b[38;5;124mPrediction for \u001b[39m\u001b[38;5;132;01m{\u001b[39;00mfuture_date\u001b[38;5;241m.\u001b[39mdate()\u001b[38;5;132;01m}\u001b[39;00m\u001b[38;5;124m Evening:\u001b[39m\u001b[38;5;124m'\u001b[39m)\n\u001b[1;32m    130\u001b[0m \u001b[38;5;28mprint\u001b[39m(\u001b[38;5;124mf\u001b[39m\u001b[38;5;124m'\u001b[39m\u001b[38;5;124mPredicted number of items to be sold: \u001b[39m\u001b[38;5;132;01m{\u001b[39;00mpredicted_items\u001b[38;5;132;01m}\u001b[39;00m\u001b[38;5;124m'\u001b[39m)\n",
      "Cell \u001b[0;32mIn[73], line 104\u001b[0m, in \u001b[0;36mpredict_item_sales\u001b[0;34m(model, scaler, date, time_of_day, features_list)\u001b[0m\n\u001b[1;32m    102\u001b[0m \u001b[38;5;66;03m# Create features for prediction\u001b[39;00m\n\u001b[1;32m    103\u001b[0m prediction_df \u001b[38;5;241m=\u001b[39m create_advanced_features(prediction_df)\n\u001b[0;32m--> 104\u001b[0m X_pred \u001b[38;5;241m=\u001b[39m \u001b[43mprediction_df\u001b[49m\u001b[43m[\u001b[49m\u001b[43mfeatures_list\u001b[49m\u001b[43m]\u001b[49m\u001b[38;5;241m.\u001b[39mfillna(\u001b[38;5;241m0\u001b[39m)\n\u001b[1;32m    106\u001b[0m \u001b[38;5;66;03m# Scale features\u001b[39;00m\n\u001b[1;32m    107\u001b[0m X_pred_scaled \u001b[38;5;241m=\u001b[39m scaler\u001b[38;5;241m.\u001b[39mtransform(X_pred)\n",
      "File \u001b[0;32m/Library/Frameworks/Python.framework/Versions/3.12/lib/python3.12/site-packages/pandas/core/frame.py:4108\u001b[0m, in \u001b[0;36mDataFrame.__getitem__\u001b[0;34m(self, key)\u001b[0m\n\u001b[1;32m   4106\u001b[0m     \u001b[38;5;28;01mif\u001b[39;00m is_iterator(key):\n\u001b[1;32m   4107\u001b[0m         key \u001b[38;5;241m=\u001b[39m \u001b[38;5;28mlist\u001b[39m(key)\n\u001b[0;32m-> 4108\u001b[0m     indexer \u001b[38;5;241m=\u001b[39m \u001b[38;5;28;43mself\u001b[39;49m\u001b[38;5;241;43m.\u001b[39;49m\u001b[43mcolumns\u001b[49m\u001b[38;5;241;43m.\u001b[39;49m\u001b[43m_get_indexer_strict\u001b[49m\u001b[43m(\u001b[49m\u001b[43mkey\u001b[49m\u001b[43m,\u001b[49m\u001b[43m \u001b[49m\u001b[38;5;124;43m\"\u001b[39;49m\u001b[38;5;124;43mcolumns\u001b[39;49m\u001b[38;5;124;43m\"\u001b[39;49m\u001b[43m)\u001b[49m[\u001b[38;5;241m1\u001b[39m]\n\u001b[1;32m   4110\u001b[0m \u001b[38;5;66;03m# take() does not accept boolean indexers\u001b[39;00m\n\u001b[1;32m   4111\u001b[0m \u001b[38;5;28;01mif\u001b[39;00m \u001b[38;5;28mgetattr\u001b[39m(indexer, \u001b[38;5;124m\"\u001b[39m\u001b[38;5;124mdtype\u001b[39m\u001b[38;5;124m\"\u001b[39m, \u001b[38;5;28;01mNone\u001b[39;00m) \u001b[38;5;241m==\u001b[39m \u001b[38;5;28mbool\u001b[39m:\n",
      "File \u001b[0;32m/Library/Frameworks/Python.framework/Versions/3.12/lib/python3.12/site-packages/pandas/core/indexes/base.py:6200\u001b[0m, in \u001b[0;36mIndex._get_indexer_strict\u001b[0;34m(self, key, axis_name)\u001b[0m\n\u001b[1;32m   6197\u001b[0m \u001b[38;5;28;01melse\u001b[39;00m:\n\u001b[1;32m   6198\u001b[0m     keyarr, indexer, new_indexer \u001b[38;5;241m=\u001b[39m \u001b[38;5;28mself\u001b[39m\u001b[38;5;241m.\u001b[39m_reindex_non_unique(keyarr)\n\u001b[0;32m-> 6200\u001b[0m \u001b[38;5;28;43mself\u001b[39;49m\u001b[38;5;241;43m.\u001b[39;49m\u001b[43m_raise_if_missing\u001b[49m\u001b[43m(\u001b[49m\u001b[43mkeyarr\u001b[49m\u001b[43m,\u001b[49m\u001b[43m \u001b[49m\u001b[43mindexer\u001b[49m\u001b[43m,\u001b[49m\u001b[43m \u001b[49m\u001b[43maxis_name\u001b[49m\u001b[43m)\u001b[49m\n\u001b[1;32m   6202\u001b[0m keyarr \u001b[38;5;241m=\u001b[39m \u001b[38;5;28mself\u001b[39m\u001b[38;5;241m.\u001b[39mtake(indexer)\n\u001b[1;32m   6203\u001b[0m \u001b[38;5;28;01mif\u001b[39;00m \u001b[38;5;28misinstance\u001b[39m(key, Index):\n\u001b[1;32m   6204\u001b[0m     \u001b[38;5;66;03m# GH 42790 - Preserve name from an Index\u001b[39;00m\n",
      "File \u001b[0;32m/Library/Frameworks/Python.framework/Versions/3.12/lib/python3.12/site-packages/pandas/core/indexes/base.py:6252\u001b[0m, in \u001b[0;36mIndex._raise_if_missing\u001b[0;34m(self, key, indexer, axis_name)\u001b[0m\n\u001b[1;32m   6249\u001b[0m     \u001b[38;5;28;01mraise\u001b[39;00m \u001b[38;5;167;01mKeyError\u001b[39;00m(\u001b[38;5;124mf\u001b[39m\u001b[38;5;124m\"\u001b[39m\u001b[38;5;124mNone of [\u001b[39m\u001b[38;5;132;01m{\u001b[39;00mkey\u001b[38;5;132;01m}\u001b[39;00m\u001b[38;5;124m] are in the [\u001b[39m\u001b[38;5;132;01m{\u001b[39;00maxis_name\u001b[38;5;132;01m}\u001b[39;00m\u001b[38;5;124m]\u001b[39m\u001b[38;5;124m\"\u001b[39m)\n\u001b[1;32m   6251\u001b[0m not_found \u001b[38;5;241m=\u001b[39m \u001b[38;5;28mlist\u001b[39m(ensure_index(key)[missing_mask\u001b[38;5;241m.\u001b[39mnonzero()[\u001b[38;5;241m0\u001b[39m]]\u001b[38;5;241m.\u001b[39munique())\n\u001b[0;32m-> 6252\u001b[0m \u001b[38;5;28;01mraise\u001b[39;00m \u001b[38;5;167;01mKeyError\u001b[39;00m(\u001b[38;5;124mf\u001b[39m\u001b[38;5;124m\"\u001b[39m\u001b[38;5;132;01m{\u001b[39;00mnot_found\u001b[38;5;132;01m}\u001b[39;00m\u001b[38;5;124m not in index\u001b[39m\u001b[38;5;124m\"\u001b[39m)\n",
      "\u001b[0;31mKeyError\u001b[0m: \"['time_numeric'] not in index\""
     ]
    }
   ],
   "source": [
    "def create_advanced_features(df):\n",
    "    # Time-based features\n",
    "    df['hour_of_day'] = pd.Categorical(df['time_of_sale'], \n",
    "                                     categories=['Morning', 'Afternoon', 'Evening', 'Night'],\n",
    "                                     ordered=True).codes\n",
    "    \n",
    "    # Enhanced time-based features\n",
    "    df['day_of_week'] = df['date'].dt.dayofweek\n",
    "    df['is_weekend'] = df['day_of_week'].isin([5, 6]).astype(int)\n",
    "    df['month'] = df['date'].dt.month\n",
    "    df['quarter'] = df['date'].dt.quarter\n",
    "    df['day_of_year'] = df['date'].dt.dayofyear\n",
    "    df['week_of_year'] = df['date'].dt.isocalendar().week\n",
    "    \n",
    "    if 'quantity' in df.columns:\n",
    "        # Sales patterns - only calculate if we have quantity data\n",
    "        daily_stats = df.groupby(['date', 'time_of_sale'])['quantity'].agg([\n",
    "            'mean', 'count', 'std', 'min', 'max'\n",
    "        ]).reset_index()\n",
    "        df = df.merge(daily_stats, on=['date', 'time_of_sale'], suffixes=('', '_daily'))\n",
    "        \n",
    "        # Rolling statistics\n",
    "        df = df.sort_values('date')\n",
    "        for window in [7, 14, 30]:\n",
    "            df[f'rolling_{window}d_mean'] = df.groupby('time_of_sale')['quantity'].transform(\n",
    "                lambda x: x.rolling(window, min_periods=1).mean())\n",
    "            df[f'rolling_{window}d_std'] = df.groupby('time_of_sale')['quantity'].transform(\n",
    "                lambda x: x.rolling(window, min_periods=1).std())\n",
    "    else:\n",
    "        # For prediction data, add placeholder columns\n",
    "        df['mean'] = 0\n",
    "        df['count'] = 0\n",
    "        df['std'] = 0\n",
    "        df['min'] = 0\n",
    "        df['max'] = 0\n",
    "        for window in [7, 14, 30]:\n",
    "            df[f'rolling_{window}d_mean'] = 0\n",
    "            df[f'rolling_{window}d_std'] = 0\n",
    "    \n",
    "    return df\n",
    "\n",
    "def create_ensemble_model(params):\n",
    "    rf = RandomForestRegressor(\n",
    "        n_estimators=params['rf_n_estimators'],\n",
    "        max_depth=params['rf_max_depth'],\n",
    "        min_samples_split=params['rf_min_samples_split'],\n",
    "        min_samples_leaf=params['rf_min_samples_leaf'],\n",
    "        random_state=42,\n",
    "        n_jobs=-1\n",
    "    )\n",
    "    \n",
    "    gb = GradientBoostingRegressor(\n",
    "        n_estimators=params['gb_n_estimators'],\n",
    "        learning_rate=params['gb_learning_rate'],\n",
    "        max_depth=params['gb_max_depth'],\n",
    "        subsample=params['gb_subsample'],\n",
    "        random_state=42\n",
    "    )\n",
    "    \n",
    "    return VotingRegressor([\n",
    "        ('rf', rf),\n",
    "        ('gb', gb)\n",
    "    ])\n",
    "\n",
    "def predict_item_sales(model, scaler, date, time_of_day, features_list):\n",
    "    \"\"\"\n",
    "    Predict number of items that will be sold\n",
    "    \"\"\"\n",
    "    # Create feature vector for prediction\n",
    "    prediction_df = pd.DataFrame({\n",
    "        'date': [date],\n",
    "        'time_of_sale': [time_of_day]\n",
    "    })\n",
    "    \n",
    "    # Create features for prediction\n",
    "    prediction_df = create_advanced_features(prediction_df)\n",
    "    X_pred = prediction_df[features_list].fillna(0)\n",
    "    \n",
    "    # Scale features\n",
    "    X_pred_scaled = scaler.transform(X_pred)\n",
    "    \n",
    "    # Predict number of items\n",
    "    predicted_items = model.predict(X_pred_scaled)[0]\n",
    "    \n",
    "    return max(1, round(predicted_items))  # Ensure at least 1 item is predicted"
   ]
  },
  {
   "cell_type": "code",
   "execution_count": 75,
   "metadata": {},
   "outputs": [
    {
     "name": "stderr",
     "output_type": "stream",
     "text": [
      "[I 2024-12-05 22:23:56,124] A new study created in memory with name: no-name-781ccfb6-7713-492a-82cb-520d27b9f985\n"
     ]
    },
    {
     "name": "stdout",
     "output_type": "stream",
     "text": [
      "Starting model optimization...\n"
     ]
    },
    {
     "name": "stderr",
     "output_type": "stream",
     "text": [
      "[I 2024-12-05 22:23:57,662] Trial 0 finished with value: 0.7283759283377945 and parameters: {'rf_n_estimators': 1427, 'rf_max_depth': 32, 'rf_min_samples_split': 4, 'rf_min_samples_leaf': 7, 'gb_n_estimators': 219, 'gb_learning_rate': 0.019554615128023346, 'gb_max_depth': 8, 'gb_subsample': 0.8524355342043999}. Best is trial 0 with value: 0.7283759283377945.\n"
     ]
    },
    {
     "name": "stdout",
     "output_type": "stream",
     "text": [
      "Trial 0: R2 Score = 0.7284\n"
     ]
    },
    {
     "name": "stderr",
     "output_type": "stream",
     "text": [
      "[I 2024-12-05 22:23:59,745] Trial 1 finished with value: 0.7656052132943449 and parameters: {'rf_n_estimators': 2780, 'rf_max_depth': 25, 'rf_min_samples_split': 10, 'rf_min_samples_leaf': 5, 'gb_n_estimators': 425, 'gb_learning_rate': 0.0033106683337264836, 'gb_max_depth': 3, 'gb_subsample': 0.685810316485163}. Best is trial 1 with value: 0.7656052132943449.\n"
     ]
    },
    {
     "name": "stdout",
     "output_type": "stream",
     "text": [
      "Trial 1: R2 Score = 0.7656\n"
     ]
    },
    {
     "name": "stderr",
     "output_type": "stream",
     "text": [
      "[I 2024-12-05 22:24:02,053] Trial 2 finished with value: 0.7357050406740353 and parameters: {'rf_n_estimators': 2007, 'rf_max_depth': 26, 'rf_min_samples_split': 3, 'rf_min_samples_leaf': 2, 'gb_n_estimators': 721, 'gb_learning_rate': 0.0038571576697481783, 'gb_max_depth': 5, 'gb_subsample': 0.6084061917827897}. Best is trial 1 with value: 0.7656052132943449.\n"
     ]
    },
    {
     "name": "stdout",
     "output_type": "stream",
     "text": [
      "Trial 2: R2 Score = 0.7357\n"
     ]
    },
    {
     "name": "stderr",
     "output_type": "stream",
     "text": [
      "[I 2024-12-05 22:24:04,260] Trial 3 finished with value: 0.6868037744388561 and parameters: {'rf_n_estimators': 1644, 'rf_max_depth': 37, 'rf_min_samples_split': 9, 'rf_min_samples_leaf': 1, 'gb_n_estimators': 362, 'gb_learning_rate': 0.0018220010585002367, 'gb_max_depth': 9, 'gb_subsample': 0.8692762268538454}. Best is trial 1 with value: 0.7656052132943449.\n"
     ]
    },
    {
     "name": "stdout",
     "output_type": "stream",
     "text": [
      "Trial 3: R2 Score = 0.6868\n"
     ]
    },
    {
     "name": "stderr",
     "output_type": "stream",
     "text": [
      "[I 2024-12-05 22:24:06,042] Trial 4 finished with value: 0.7050546226783332 and parameters: {'rf_n_estimators': 1797, 'rf_max_depth': 28, 'rf_min_samples_split': 13, 'rf_min_samples_leaf': 4, 'gb_n_estimators': 240, 'gb_learning_rate': 0.0028938056744568417, 'gb_max_depth': 10, 'gb_subsample': 0.756652992326917}. Best is trial 1 with value: 0.7656052132943449.\n"
     ]
    },
    {
     "name": "stdout",
     "output_type": "stream",
     "text": [
      "Trial 4: R2 Score = 0.7051\n"
     ]
    },
    {
     "name": "stderr",
     "output_type": "stream",
     "text": [
      "[I 2024-12-05 22:24:09,985] Trial 5 finished with value: 0.701603585879562 and parameters: {'rf_n_estimators': 1752, 'rf_max_depth': 24, 'rf_min_samples_split': 13, 'rf_min_samples_leaf': 2, 'gb_n_estimators': 963, 'gb_learning_rate': 0.02783074452099757, 'gb_max_depth': 11, 'gb_subsample': 0.6230056902004372}. Best is trial 1 with value: 0.7656052132943449.\n"
     ]
    },
    {
     "name": "stdout",
     "output_type": "stream",
     "text": [
      "Trial 5: R2 Score = 0.7016\n"
     ]
    },
    {
     "name": "stderr",
     "output_type": "stream",
     "text": [
      "[I 2024-12-05 22:24:12,392] Trial 6 finished with value: 0.7278147614358035 and parameters: {'rf_n_estimators': 2782, 'rf_max_depth': 40, 'rf_min_samples_split': 4, 'rf_min_samples_leaf': 3, 'gb_n_estimators': 448, 'gb_learning_rate': 0.017859457609895418, 'gb_max_depth': 4, 'gb_subsample': 0.8666354229365332}. Best is trial 1 with value: 0.7656052132943449.\n"
     ]
    },
    {
     "name": "stdout",
     "output_type": "stream",
     "text": [
      "Trial 6: R2 Score = 0.7278\n"
     ]
    },
    {
     "name": "stderr",
     "output_type": "stream",
     "text": [
      "[I 2024-12-05 22:24:14,920] Trial 7 finished with value: 0.7091035188240562 and parameters: {'rf_n_estimators': 2110, 'rf_max_depth': 34, 'rf_min_samples_split': 8, 'rf_min_samples_leaf': 6, 'gb_n_estimators': 412, 'gb_learning_rate': 0.0016285343655951703, 'gb_max_depth': 9, 'gb_subsample': 0.814749077243582}. Best is trial 1 with value: 0.7656052132943449.\n"
     ]
    },
    {
     "name": "stdout",
     "output_type": "stream",
     "text": [
      "Trial 7: R2 Score = 0.7091\n"
     ]
    },
    {
     "name": "stderr",
     "output_type": "stream",
     "text": [
      "[I 2024-12-05 22:24:19,957] Trial 8 finished with value: 0.6945710596668693 and parameters: {'rf_n_estimators': 2807, 'rf_max_depth': 37, 'rf_min_samples_split': 7, 'rf_min_samples_leaf': 3, 'gb_n_estimators': 884, 'gb_learning_rate': 0.003354863966013552, 'gb_max_depth': 10, 'gb_subsample': 0.9507296966782848}. Best is trial 1 with value: 0.7656052132943449.\n"
     ]
    },
    {
     "name": "stdout",
     "output_type": "stream",
     "text": [
      "Trial 8: R2 Score = 0.6946\n"
     ]
    },
    {
     "name": "stderr",
     "output_type": "stream",
     "text": [
      "[I 2024-12-05 22:24:23,968] Trial 9 finished with value: 0.73401353678581 and parameters: {'rf_n_estimators': 2912, 'rf_max_depth': 28, 'rf_min_samples_split': 12, 'rf_min_samples_leaf': 4, 'gb_n_estimators': 797, 'gb_learning_rate': 0.0023606285212427617, 'gb_max_depth': 7, 'gb_subsample': 0.9295331024170812}. Best is trial 1 with value: 0.7656052132943449.\n"
     ]
    },
    {
     "name": "stdout",
     "output_type": "stream",
     "text": [
      "Trial 9: R2 Score = 0.7340\n"
     ]
    },
    {
     "name": "stderr",
     "output_type": "stream",
     "text": [
      "[I 2024-12-05 22:24:25,979] Trial 10 finished with value: 0.7221376694648756 and parameters: {'rf_n_estimators': 2393, 'rf_max_depth': 16, 'rf_min_samples_split': 15, 'rf_min_samples_leaf': 8, 'gb_n_estimators': 580, 'gb_learning_rate': 0.07370276458449991, 'gb_max_depth': 3, 'gb_subsample': 0.721161591668444}. Best is trial 1 with value: 0.7656052132943449.\n"
     ]
    },
    {
     "name": "stdout",
     "output_type": "stream",
     "text": [
      "Trial 10: R2 Score = 0.7221\n"
     ]
    },
    {
     "name": "stderr",
     "output_type": "stream",
     "text": [
      "[I 2024-12-05 22:24:27,639] Trial 11 finished with value: 0.7434186409847775 and parameters: {'rf_n_estimators': 1071, 'rf_max_depth': 21, 'rf_min_samples_split': 2, 'rf_min_samples_leaf': 6, 'gb_n_estimators': 693, 'gb_learning_rate': 0.006712879399992157, 'gb_max_depth': 5, 'gb_subsample': 0.611440446019291}. Best is trial 1 with value: 0.7656052132943449.\n"
     ]
    },
    {
     "name": "stdout",
     "output_type": "stream",
     "text": [
      "Trial 11: R2 Score = 0.7434\n"
     ]
    },
    {
     "name": "stderr",
     "output_type": "stream",
     "text": [
      "[I 2024-12-05 22:24:29,343] Trial 12 finished with value: 0.7321943255066413 and parameters: {'rf_n_estimators': 1046, 'rf_max_depth': 20, 'rf_min_samples_split': 10, 'rf_min_samples_leaf': 6, 'gb_n_estimators': 583, 'gb_learning_rate': 0.007647172841500927, 'gb_max_depth': 6, 'gb_subsample': 0.6788147372339262}. Best is trial 1 with value: 0.7656052132943449.\n"
     ]
    },
    {
     "name": "stdout",
     "output_type": "stream",
     "text": [
      "Trial 12: R2 Score = 0.7322\n"
     ]
    },
    {
     "name": "stderr",
     "output_type": "stream",
     "text": [
      "[I 2024-12-05 22:24:31,429] Trial 13 finished with value: 0.7629884617046256 and parameters: {'rf_n_estimators': 2423, 'rf_max_depth': 21, 'rf_min_samples_split': 6, 'rf_min_samples_leaf': 6, 'gb_n_estimators': 681, 'gb_learning_rate': 0.0066020476848608, 'gb_max_depth': 3, 'gb_subsample': 0.6728086703395575}. Best is trial 1 with value: 0.7656052132943449.\n"
     ]
    },
    {
     "name": "stdout",
     "output_type": "stream",
     "text": [
      "Trial 13: R2 Score = 0.7630\n"
     ]
    },
    {
     "name": "stderr",
     "output_type": "stream",
     "text": [
      "[I 2024-12-05 22:24:33,328] Trial 14 finished with value: 0.7027789010572504 and parameters: {'rf_n_estimators': 2371, 'rf_max_depth': 15, 'rf_min_samples_split': 6, 'rf_min_samples_leaf': 5, 'gb_n_estimators': 485, 'gb_learning_rate': 0.0010082987533887406, 'gb_max_depth': 3, 'gb_subsample': 0.7086869609567851}. Best is trial 1 with value: 0.7656052132943449.\n"
     ]
    },
    {
     "name": "stdout",
     "output_type": "stream",
     "text": [
      "Trial 14: R2 Score = 0.7028\n"
     ]
    },
    {
     "name": "stderr",
     "output_type": "stream",
     "text": [
      "[I 2024-12-05 22:24:35,398] Trial 15 finished with value: 0.7720814354104102 and parameters: {'rf_n_estimators': 2559, 'rf_max_depth': 21, 'rf_min_samples_split': 6, 'rf_min_samples_leaf': 8, 'gb_n_estimators': 655, 'gb_learning_rate': 0.005852329824658076, 'gb_max_depth': 3, 'gb_subsample': 0.6682096471389335}. Best is trial 15 with value: 0.7720814354104102.\n"
     ]
    },
    {
     "name": "stdout",
     "output_type": "stream",
     "text": [
      "Trial 15: R2 Score = 0.7721\n"
     ]
    },
    {
     "name": "stderr",
     "output_type": "stream",
     "text": [
      "[I 2024-12-05 22:24:37,421] Trial 16 finished with value: 0.7460410185640091 and parameters: {'rf_n_estimators': 2655, 'rf_max_depth': 24, 'rf_min_samples_split': 11, 'rf_min_samples_leaf': 8, 'gb_n_estimators': 316, 'gb_learning_rate': 0.014056462364492182, 'gb_max_depth': 5, 'gb_subsample': 0.746912608046722}. Best is trial 15 with value: 0.7720814354104102.\n"
     ]
    },
    {
     "name": "stdout",
     "output_type": "stream",
     "text": [
      "Trial 16: R2 Score = 0.7460\n"
     ]
    },
    {
     "name": "stderr",
     "output_type": "stream",
     "text": [
      "[I 2024-12-05 22:24:39,534] Trial 17 finished with value: 0.7679957433412572 and parameters: {'rf_n_estimators': 2597, 'rf_max_depth': 18, 'rf_min_samples_split': 9, 'rf_min_samples_leaf': 7, 'gb_n_estimators': 521, 'gb_learning_rate': 0.0046802946929352975, 'gb_max_depth': 4, 'gb_subsample': 0.6605002349563839}. Best is trial 15 with value: 0.7720814354104102.\n"
     ]
    },
    {
     "name": "stdout",
     "output_type": "stream",
     "text": [
      "Trial 17: R2 Score = 0.7680\n"
     ]
    },
    {
     "name": "stderr",
     "output_type": "stream",
     "text": [
      "[I 2024-12-05 22:24:41,938] Trial 18 finished with value: 0.7200719871352461 and parameters: {'rf_n_estimators': 2546, 'rf_max_depth': 18, 'rf_min_samples_split': 6, 'rf_min_samples_leaf': 7, 'gb_n_estimators': 527, 'gb_learning_rate': 0.041815451877901096, 'gb_max_depth': 6, 'gb_subsample': 0.6485436955185222}. Best is trial 15 with value: 0.7720814354104102.\n"
     ]
    },
    {
     "name": "stdout",
     "output_type": "stream",
     "text": [
      "Trial 18: R2 Score = 0.7201\n"
     ]
    },
    {
     "name": "stderr",
     "output_type": "stream",
     "text": [
      "[I 2024-12-05 22:24:44,318] Trial 19 finished with value: 0.7413219000282447 and parameters: {'rf_n_estimators': 2194, 'rf_max_depth': 18, 'rf_min_samples_split': 8, 'rf_min_samples_leaf': 8, 'gb_n_estimators': 794, 'gb_learning_rate': 0.010312264100579985, 'gb_max_depth': 4, 'gb_subsample': 0.777520852520408}. Best is trial 15 with value: 0.7720814354104102.\n"
     ]
    },
    {
     "name": "stdout",
     "output_type": "stream",
     "text": [
      "Trial 19: R2 Score = 0.7413\n",
      "\n",
      "Best trial:\n",
      "R2 Score: 0.7721\n",
      "Best hyperparameters: {'rf_n_estimators': 2559, 'rf_max_depth': 21, 'rf_min_samples_split': 6, 'rf_min_samples_leaf': 8, 'gb_n_estimators': 655, 'gb_learning_rate': 0.005852329824658076, 'gb_max_depth': 3, 'gb_subsample': 0.6682096471389335}\n",
      "\n",
      "Final Model Performance:\n",
      "R2 Score: 0.7721\n",
      "Mean Squared Error: 4.4352\n",
      "\n",
      "Feature Importance:\n",
      "             feature  importance\n",
      "7               mean    0.885529\n",
      "11               max    0.021302\n",
      "10               min    0.019395\n",
      "12   rolling_7d_mean    0.015082\n",
      "9                std    0.014548\n",
      "13    rolling_7d_std    0.011664\n",
      "15   rolling_14d_std    0.008584\n",
      "17   rolling_30d_std    0.006808\n",
      "14  rolling_14d_mean    0.006418\n",
      "16  rolling_30d_mean    0.005144\n",
      "2        day_of_year    0.001459\n",
      "0        day_of_week    0.001084\n",
      "3        hour_of_day    0.000980\n",
      "8              count    0.000804\n",
      "6       week_of_year    0.000748\n",
      "1              month    0.000261\n",
      "4         is_weekend    0.000097\n",
      "5            quarter    0.000092\n",
      "\n",
      "Prediction for 2024-03-15 Evening:\n",
      "Predicted number of items to be sold: 1\n"
     ]
    },
    {
     "name": "stderr",
     "output_type": "stream",
     "text": [
      "/Library/Frameworks/Python.framework/Versions/3.12/lib/python3.12/site-packages/sklearn/base.py:493: UserWarning: X does not have valid feature names, but RandomForestRegressor was fitted with feature names\n",
      "  warnings.warn(\n",
      "/Library/Frameworks/Python.framework/Versions/3.12/lib/python3.12/site-packages/sklearn/base.py:493: UserWarning: X does not have valid feature names, but GradientBoostingRegressor was fitted with feature names\n",
      "  warnings.warn(\n"
     ]
    }
   ],
   "source": [
    "def objective(trial):\n",
    "    params = {\n",
    "        'rf_n_estimators': trial.suggest_int('rf_n_estimators', 1000, 3000),\n",
    "        'rf_max_depth': trial.suggest_int('rf_max_depth', 15, 40),\n",
    "        'rf_min_samples_split': trial.suggest_int('rf_min_samples_split', 2, 15),\n",
    "        'rf_min_samples_leaf': trial.suggest_int('rf_min_samples_leaf', 1, 8),\n",
    "        \n",
    "        'gb_n_estimators': trial.suggest_int('gb_n_estimators', 200, 1000),\n",
    "        'gb_learning_rate': trial.suggest_float('gb_learning_rate', 0.001, 0.1, log=True),\n",
    "        'gb_max_depth': trial.suggest_int('gb_max_depth', 3, 12),\n",
    "        'gb_subsample': trial.suggest_float('gb_subsample', 0.6, 1.0)\n",
    "    }\n",
    "    \n",
    "    ensemble = create_ensemble_model(params)\n",
    "    ensemble.fit(X_train, y_train)\n",
    "    \n",
    "    # Calculate R2 score\n",
    "    y_pred = ensemble.predict(X_test)\n",
    "    r2 = r2_score(y_test, y_pred)\n",
    "    \n",
    "    print(f'Trial {trial.number}: R2 Score = {r2:.4f}')\n",
    "    return r2\n",
    "\n",
    "# Main execution\n",
    "if __name__ == \"__main__\":\n",
    "    # ... previous code remains the same until model training ...\n",
    "    \n",
    "    print(\"Starting model optimization...\")\n",
    "    study = optuna.create_study(direction='maximize')\n",
    "    study.optimize(objective, n_trials=20)  # Reduced to 20 trials for demonstration\n",
    "    \n",
    "    print(\"\\nBest trial:\")\n",
    "    print(f\"R2 Score: {study.best_value:.4f}\")\n",
    "    print(\"Best hyperparameters:\", study.best_params)\n",
    "    \n",
    "    # Train final model with best parameters\n",
    "    best_params = study.best_params\n",
    "    final_ensemble = create_ensemble_model(best_params)\n",
    "    final_ensemble.fit(X_train, y_train)\n",
    "    \n",
    "    # Final evaluation\n",
    "    y_pred = final_ensemble.predict(X_test)\n",
    "    final_r2 = r2_score(y_test, y_pred)\n",
    "    final_mse = mean_squared_error(y_test, y_pred)\n",
    "    \n",
    "    print(f'\\nFinal Model Performance:')\n",
    "    print(f'R2 Score: {final_r2:.4f}')\n",
    "    print(f'Mean Squared Error: {final_mse:.4f}')\n",
    "    \n",
    "    # Feature importance analysis\n",
    "    feature_importance = pd.DataFrame({\n",
    "        'feature': features,\n",
    "        'importance': final_ensemble.named_estimators_['rf'].feature_importances_\n",
    "    })\n",
    "    print(\"\\nFeature Importance:\")\n",
    "    print(feature_importance.sort_values('importance', ascending=False))\n",
    "    \n",
    "    # Example prediction\n",
    "    future_date = pd.Timestamp('2024-03-15')\n",
    "    predicted_items = predict_item_sales(\n",
    "        final_ensemble, scaler, future_date, 'Evening', features\n",
    "    )\n",
    "    print(f'\\nPrediction for {future_date.date()} Evening:')\n",
    "    print(f'Predicted number of items to be sold: {predicted_items}')"
   ]
  },
  {
   "cell_type": "code",
   "execution_count": null,
   "metadata": {},
   "outputs": [],
   "source": []
  }
 ],
 "metadata": {
  "kernelspec": {
   "display_name": "Python 3",
   "language": "python",
   "name": "python3"
  },
  "language_info": {
   "codemirror_mode": {
    "name": "ipython",
    "version": 3
   },
   "file_extension": ".py",
   "mimetype": "text/x-python",
   "name": "python",
   "nbconvert_exporter": "python",
   "pygments_lexer": "ipython3",
   "version": "3.12.1"
  }
 },
 "nbformat": 4,
 "nbformat_minor": 2
}
